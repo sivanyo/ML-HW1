{
  "nbformat": 4,
  "nbformat_minor": 0,
  "metadata": {
    "kernelspec": {
      "display_name": "${KERNEL_SPEC_DISPLAY_NAME}",
      "language": "${KERNEL_SPEC_LANGUAGE}",
      "name": "${KERNEL_SPEC_NAME}"
    },
    "language_info": {
      "codemirror_mode": {
        "name": "ipython",
        "version": 2
      },
      "file_extension": ".py",
      "mimetype": "text/x-python",
      "name": "python",
      "nbconvert_exporter": "python",
      "pygments_lexer": "ipython2",
      "version": "2.7.6"
    },
    "colab": {
      "name": "Copy of notebook1.ipynb",
      "provenance": [],
      "collapsed_sections": []
    }
  },
  "cells": [
    {
      "cell_type": "code",
      "metadata": {
        "id": "4fHDGDO95YGC"
      },
      "source": [
        "import numpy as np\n",
        "import pandas as pd\n",
        "import matplotlib.pyplot as plt\n",
        "import seaborn as sns"
      ],
      "execution_count": null,
      "outputs": []
    },
    {
      "cell_type": "markdown",
      "metadata": {
        "id": "2gP3DAtiejRy"
      },
      "source": [
        "# Part 1\n",
        "**Q1**"
      ]
    },
    {
      "cell_type": "code",
      "metadata": {
        "id": "DfYF1LgMLcNe"
      },
      "source": [
        "!rm *.csv\n",
        "\n",
        "from google.colab import files\n",
        "print(\"Please load the raw csv data\")\n",
        "uploadedData = files.upload()\n",
        "filename = list(uploadedData)[0]"
      ],
      "execution_count": null,
      "outputs": []
    },
    {
      "cell_type": "code",
      "metadata": {
        "id": "sVCPiqj_L8ch"
      },
      "source": [
        "dataset = pd.read_csv(filename)"
      ],
      "execution_count": null,
      "outputs": []
    },
    {
      "cell_type": "code",
      "metadata": {
        "id": "pT3gmNOXjtE9"
      },
      "source": [
        "# from google.colab import files /# use for debug only\n",
        "# outputPath = \"saved_file.csv\"\n",
        "# dataset.to_csv(outputPath)\n",
        "# files.download(outputPath) "
      ],
      "execution_count": null,
      "outputs": []
    },
    {
      "cell_type": "code",
      "metadata": {
        "id": "qwPJnat6gIfw"
      },
      "source": [
        "dataset"
      ],
      "execution_count": null,
      "outputs": []
    },
    {
      "cell_type": "markdown",
      "metadata": {
        "id": "IXsL8-2YfA_m"
      },
      "source": [
        "**Q3**"
      ]
    },
    {
      "cell_type": "code",
      "metadata": {
        "id": "fGJDTwmgpQrp"
      },
      "source": [
        "int_cols = {'AgeGroup', 'ConversatiosPerDay', 'DisciplineScore', 'HappinessScore', 'MedicalCarePerYear', 'NrCousins', 'StepsPerYear'}\n",
        "for col_name in int_cols:\n",
        "  dataset[col_name] = dataset[col_name].astype('Int64') # we chose 'Int64' becuase it is the only 'int' type which allows to use none vals\n",
        "\n",
        "\n",
        "dataset.Address = dataset.Address.astype('string')\n",
        "dataset.BloodType = dataset.BloodType.astype('category')\n",
        "dataset.DateOfPCRTest = dataset.DateOfPCRTest.astype('datetime64[ns]')\n",
        "dataset.Job = dataset.Job.astype('string')\n",
        "dataset.Self_declaration_of_Illness_Form = dataset.Self_declaration_of_Illness_Form.astype('string')\n",
        "dataset.Sex = dataset.Sex.astype('category')\n",
        "dataset.Virus = dataset.Virus.astype('category')\n",
        "dataset.SpreadLevel = dataset.SpreadLevel.astype('category')\n",
        "dataset.Risk = dataset.Risk.astype('category')\n",
        "\n",
        "dataset.dtypes\n"
      ],
      "execution_count": null,
      "outputs": []
    },
    {
      "cell_type": "markdown",
      "metadata": {
        "id": "wSGKQbiKgD4K"
      },
      "source": [
        "**before splitting our data to subsets, we first want to modify some of them a bit  (as part of Q 2.6)**\n",
        "\n"
      ]
    },
    {
      "cell_type": "markdown",
      "metadata": {
        "id": "s7xPk17rj-w0"
      },
      "source": [
        "**the next few code-cells create catagorial columns based on numaric scale from catagorial columns based on string into**"
      ]
    },
    {
      "cell_type": "code",
      "metadata": {
        "id": "_2lh6AQkXDr_"
      },
      "source": [
        "dic_tmp = {'low': 1, 'medium': 2, 'high': 3}\n",
        "tmp_col = dataset.SpreadLevel.apply(lambda row: dic_tmp[row]).astype('Int64')\n",
        "dataset.insert(loc=dataset.columns.get_loc('SpreadLevel')+1, column='SpreadLevel_scala', value=tmp_col)\n",
        "tmp_col = dataset.Risk.apply(lambda row: dic_tmp[row]).astype('Int64')\n",
        "dataset.insert(loc=dataset.columns.get_loc('Risk')+1, column='Risk_scala', value=tmp_col)"
      ],
      "execution_count": null,
      "outputs": []
    },
    {
      "cell_type": "code",
      "metadata": {
        "id": "Q-uwWU4ZUs6Y"
      },
      "source": [
        "tmp_col = dataset.CurrentLocation.apply(lambda row: np.nan if type(row) != str else row.split('\\'')[3]).astype(float)\n",
        "dataset.insert(loc=dataset.columns.get_loc('CurrentLocation')+1, column='y_location', value=tmp_col)\n",
        "tmp_col = dataset.CurrentLocation.apply(lambda row: np.nan if type(row) != str else row.split('\\'')[1]).astype(float)\n",
        "dataset.insert(loc=dataset.columns.get_loc('CurrentLocation')+1, column='x_location', value=tmp_col)"
      ],
      "execution_count": null,
      "outputs": []
    },
    {
      "cell_type": "code",
      "metadata": {
        "id": "az3s7DyGWxPv"
      },
      "source": [
        "tmp_col = dataset.DateOfPCRTest.apply(lambda row: None if row is None else row.month).astype('Int64')\n",
        "dataset.insert(loc=dataset.columns.get_loc('DateOfPCRTest')+1, column='MonthOfPCRTest', value=tmp_col)"
      ],
      "execution_count": null,
      "outputs": []
    },
    {
      "cell_type": "code",
      "metadata": {
        "id": "uhdo8w4VayCu"
      },
      "source": [
        "tmp_col = pd.cut(dataset['HouseholdExpenseParkingTicketsPerYear'],7,labels=[1,2,3,4,5,6,7]).astype('Int64')\n",
        "dataset.insert(loc=dataset.columns.get_loc('HouseholdExpenseParkingTicketsPerYear')+1, column='TicketsPerYearGroup', value=tmp_col) "
      ],
      "execution_count": null,
      "outputs": []
    },
    {
      "cell_type": "markdown",
      "metadata": {
        "id": "N08H-7o0hgOz"
      },
      "source": [
        "**Q 6**\n",
        "\n",
        "notice we did it before Q 4 in purpose"
      ]
    },
    {
      "cell_type": "code",
      "metadata": {
        "id": "sgavJX8UF6RB"
      },
      "source": [
        "# this code-cell creates new, more easy to use, columns based on Self_declaration_of_Illness_Form column\n",
        "tmp_col = dataset.Self_declaration_of_Illness_Form.apply(lambda row: [] if type(row) != str else sorted([x.strip() for x in row.split(';')]))\n",
        "dataset.insert(loc=dataset.columns.get_loc('Self_declaration_of_Illness_Form')+1, column='Symptoms_list', value=tmp_col)\n",
        "all_sym = set()\n",
        "for row in dataset.Symptoms_list:\n",
        "  all_sym = all_sym.union(row)\n",
        "\n",
        "for sym in all_sym:\n",
        "  tmp_col = dataset.Symptoms_list.apply(lambda row: sym in row)\n",
        "  dataset.insert(loc=dataset.columns.get_loc('Symptoms_list')+1, column=\"Is_having_\"+sym, value=tmp_col)"
      ],
      "execution_count": null,
      "outputs": []
    },
    {
      "cell_type": "code",
      "metadata": {
        "id": "yHZ5AqLBKJeC"
      },
      "source": [
        "# this code-cell extracts the region from the address column\n",
        "def extract_only_city(s):\n",
        "  if (type(s) != str):\n",
        "    return None\n",
        "  s = s.split('\\r')[-1].split(',')[0]\n",
        "  for letter in s:\n",
        "    if letter.isdigit():\n",
        "      s = s.replace(letter,'')\n",
        "  return s.strip()\n",
        "\n",
        "tmp_col = dataset.Address.apply(lambda row: extract_only_city(row)).astype(str)\n",
        "dataset.insert(loc=dataset.columns.get_loc('Address')+1, column='Region', value=tmp_col)"
      ],
      "execution_count": null,
      "outputs": []
    },
    {
      "cell_type": "markdown",
      "metadata": {
        "id": "F44SOn5vhJVM"
      },
      "source": [
        "# Part 2"
      ]
    },
    {
      "cell_type": "markdown",
      "metadata": {
        "id": "u7BCrr1ljQn4"
      },
      "source": [
        "**we finished to modify the basic column we will work on so now we can split our data to test, train and validation subsets**"
      ]
    },
    {
      "cell_type": "markdown",
      "metadata": {
        "id": "jeNk60ZjhXFR"
      },
      "source": [
        "**Q 4**"
      ]
    },
    {
      "cell_type": "code",
      "metadata": {
        "id": "aP5jMdWapv2Z"
      },
      "source": [
        "# Q 2.4 - spliting data to test, train and validation subsets\n",
        "from sklearn.model_selection import train_test_split\n",
        "tmp, test = train_test_split(dataset, test_size=0.2, random_state=12)\n",
        "train, validation =  train_test_split(tmp, test_size=0.25, random_state=12)\n",
        "\n",
        "# we are going to modify slices of dataset so pandas see it as 'SettingWithCopyWarning'. those msg are not relevant and annoying so...\n",
        "pd.options.mode.chained_assignment = None  # default='warn'\n"
      ],
      "execution_count": null,
      "outputs": []
    },
    {
      "cell_type": "markdown",
      "metadata": {
        "id": "n4nYm4PXhwme"
      },
      "source": [
        "(for Q 6 look at couple blocks back)"
      ]
    },
    {
      "cell_type": "markdown",
      "metadata": {
        "id": "d2X2Zqj8kbTC"
      },
      "source": [
        "##Missing data\n",
        "here we study our data, in particular its distribution, in order to choose how to fill missing data\n"
      ]
    },
    {
      "cell_type": "markdown",
      "metadata": {
        "id": "TW6H5TpzkKNQ"
      },
      "source": [
        "**Q 7 - remove attributes**"
      ]
    },
    {
      "cell_type": "markdown",
      "metadata": {
        "id": "zm4XTAGbs3IX"
      },
      "source": [
        "**Manual removing attributes with high percentage of divergence**"
      ]
    },
    {
      "cell_type": "code",
      "metadata": {
        "id": "1DA3L9TFsiqO",
        "colab": {
          "base_uri": "https://localhost:8080/"
        },
        "outputId": "5f9c4456-2ee2-425f-af12-16843d993e9d"
      },
      "source": [
        "high_divergence = [col for col in ['Region', 'Job'] if train[col].nunique()/train.shape[0] < 0.8]\n",
        "print(high_divergence)\n",
        "for col in high_divergence:\n",
        "  train.drop(col, axis='columns', inplace=True)"
      ],
      "execution_count": null,
      "outputs": [
        {
          "output_type": "stream",
          "text": [
            "['Region', 'Job']\n"
          ],
          "name": "stdout"
        }
      ]
    },
    {
      "cell_type": "code",
      "metadata": {
        "id": "6E-cDrkdlXct"
      },
      "source": [
        "train.drop('Address', axis='columns', inplace=True) # due Region did not found useful..."
      ],
      "execution_count": null,
      "outputs": []
    },
    {
      "cell_type": "markdown",
      "metadata": {
        "id": "-sS1zwCnna5Q"
      },
      "source": [
        "**Manual removing attributes with high percentage of missing data**"
      ]
    },
    {
      "cell_type": "code",
      "metadata": {
        "id": "djohgkix-Hbe",
        "colab": {
          "base_uri": "https://localhost:8080/"
        },
        "outputId": "f3ea14c7-8b71-4710-f1ee-dfecb9804217"
      },
      "source": [
        "many_deficiencies = [col for col in train.columns if train[col].notnull().sum()/train.shape[0] < 0.8]\n",
        "print(many_deficiencies)\n",
        "for col in many_deficiencies:\n",
        "  train.drop(col, axis='columns', inplace=True)"
      ],
      "execution_count": null,
      "outputs": [
        {
          "output_type": "stream",
          "text": [
            "['PCR_11', 'PCR_15']\n"
          ],
          "name": "stdout"
        }
      ]
    },
    {
      "cell_type": "markdown",
      "metadata": {
        "id": "8R2nkp4HiWbl"
      },
      "source": [
        "**Q 8 - here we fill missing cells of columns with normal distribution with their means**"
      ]
    },
    {
      "cell_type": "code",
      "metadata": {
        "id": "z8VPqhrTmW6T"
      },
      "source": [
        "for col in train:\n",
        "  if train[col].dtypes == 'Int64' or train[col].dtypes == float:\n",
        "    sns.histplot(train[col])\n",
        "    # sns.histplot(train[col], kde=True) \n",
        "    plt.grid()\n",
        "    plt.title(col + ' - examination of distribution')\n",
        "    plt.show()"
      ],
      "execution_count": null,
      "outputs": []
    },
    {
      "cell_type": "code",
      "metadata": {
        "id": "eKuYHgl5nl0S",
        "colab": {
          "base_uri": "https://localhost:8080/"
        },
        "outputId": "b238506a-3e07-4d1c-ce29-d7d912051415"
      },
      "source": [
        "# here we fill missing cells of columns with normal distribution with their means\n",
        "from statistics import mean\n",
        "\n",
        "for col_name in ['BMI', 'ConversatiosPerDay', 'DisciplineScore', 'HouseholdExpenseOnPresents',\n",
        "                 'PCR_7', 'PCR_72', 'PCR_89', 'SocialActivitiesPerDay', 'SportsPerDay']:\n",
        "  if train[col_name].dtypes == 'Int64':\n",
        "    train[col_name] = train[col_name].fillna(round(train[col_name].mean()))\n",
        "  else:\n",
        "    train[col_name] = train[col_name].fillna(train[col_name].mean())\n",
        "\n"
      ],
      "execution_count": null,
      "outputs": [
        {
          "output_type": "stream",
          "text": [
            "/usr/local/lib/python3.7/dist-packages/ipykernel_launcher.py:6: DeprecationWarning: Numeric-style type codes are deprecated and will result in an error in the future.\n",
            "  \n"
          ],
          "name": "stderr"
        }
      ]
    },
    {
      "cell_type": "code",
      "metadata": {
        "id": "WmvT7MBt567K"
      },
      "source": [
        "# here we fill missing cells of columns with non-normal distribution with their median (which more meaning in this case than using mean)\n",
        "for col_name in ['AgeGroup', 'HappinessScore', 'HouseholdExpenseOnSocialGames', 'HouseholdExpenseParkingTicketsPerYear',\n",
        "                 'MedicalCarePerYear', 'NrCousins', 'PCR_19', 'PCR_95', 'StepsPerYear']:\n",
        "  train[col_name] = train[col_name].fillna(train[col_name].median())"
      ],
      "execution_count": null,
      "outputs": []
    },
    {
      "cell_type": "code",
      "metadata": {
        "id": "UaafWljAbUwx"
      },
      "source": [
        "# notice we choose to fill only numerical data with good studiable distribution"
      ],
      "execution_count": null,
      "outputs": []
    },
    {
      "cell_type": "markdown",
      "metadata": {
        "id": "o-xlAWHWO5O_"
      },
      "source": [
        "## Outlier Detection"
      ]
    },
    {
      "cell_type": "markdown",
      "metadata": {
        "id": "6Pku_i3vjd3l"
      },
      "source": [
        "**Q 9**"
      ]
    },
    {
      "cell_type": "code",
      "metadata": {
        "id": "5D1ohEZMjZBb"
      },
      "source": [
        "col_list = [col for col in train.columns[1:-5] if train[col].dtypes == 'Int64' or train[col].dtypes == float]\n",
        "for col in col_list:\n",
        "  ax = sns.boxplot(x=train[col], y=train['Virus'])\n",
        "  plt.show()"
      ],
      "execution_count": null,
      "outputs": []
    },
    {
      "cell_type": "markdown",
      "metadata": {
        "id": "BcbCls6WjlrQ"
      },
      "source": [
        "**Q 10**"
      ]
    },
    {
      "cell_type": "markdown",
      "metadata": {
        "id": "bHEDEydmPKwp"
      },
      "source": [
        "**Z-score (only on data with close-to-normal distribution)**"
      ]
    },
    {
      "cell_type": "code",
      "metadata": {
        "id": "IpKYOVzTVyYN"
      },
      "source": [
        "for col in ['ConversatiosPerDay', 'BMI', 'HouseholdExpenseOnPresents', 'PCR_19', 'PCR_7',\n",
        "            'PCR_72', 'PCR_89', 'SocialActivitiesPerDay', 'SocialMediaPerDay']:\n",
        "  if train[col_name].dtypes == 'Int64':\n",
        "    m = round(train[col].mean())\n",
        "  else:\n",
        "    m = train[col].mean()  \n",
        "  tmp_col = (train[col] - m)/train[col].std(ddof=0)\n",
        "  for index, row in train.iterrows():\n",
        "    if train[col][index] is not np.nan and tmp_col[index] >= 3:\n",
        "      train[col][index] = m"
      ],
      "execution_count": null,
      "outputs": []
    },
    {
      "cell_type": "markdown",
      "metadata": {
        "id": "hf5XuRoqHtTM"
      },
      "source": [
        "**BoxPlots - Finding Outliers**"
      ]
    },
    {
      "cell_type": "code",
      "metadata": {
        "id": "OjqODPHfMOL-"
      },
      "source": [
        "# manully correcting outliner\n",
        "m = train['DisciplineScore'].median() \n",
        "for index, row in train.iterrows():\n",
        "    if train['DisciplineScore'][index] < 0 or train['DisciplineScore'][index] > 10:# outlier \n",
        "      train['DisciplineScore'][index] = m \n",
        "ax = sns.boxplot(x=train['DisciplineScore'], y=train['Virus'])\n",
        "plt.show()"
      ],
      "execution_count": null,
      "outputs": []
    },
    {
      "cell_type": "code",
      "metadata": {
        "id": "tA3vhKwSviT3"
      },
      "source": [
        "col_list = [col for col in train.columns[1:-5] if train[col].dtypes == 'Int64' or train[col].dtypes == float]\n",
        "print(col_list)\n",
        "for i in col_list:\n",
        "  q1 = train[i].quantile(0.25)\n",
        "  q3 = train[i].quantile(0.75)\n",
        "  iqr = q3-q1 #Interquartile range\n",
        "  fence_low  = q1-1.5*iqr\n",
        "  fence_high = q3+1.5*iqr\n",
        "  m = train[i].median()\n",
        "  for index, row in train.iterrows():\n",
        "    if train[i][index] is pd.NA or train[i][index] < fence_low or train[i][index] > fence_high:# outlier \n",
        "      train[i][index] = m \n",
        "  ax = sns.boxplot(x=train[i], y=train['Virus'])\n",
        "  plt.show()"
      ],
      "execution_count": null,
      "outputs": []
    },
    {
      "cell_type": "markdown",
      "metadata": {
        "id": "EbPcccb9Tuc9"
      },
      "source": [
        "**Data Transformation - Normalization**"
      ]
    },
    {
      "cell_type": "markdown",
      "metadata": {
        "id": "FlKnW75ypqW7"
      },
      "source": [
        "**Q 11**"
      ]
    },
    {
      "cell_type": "code",
      "metadata": {
        "id": "ag8PH5rFSjr2"
      },
      "source": [
        "sns.histplot(train.StepsPerYear) \n",
        "plt.grid()\n",
        "plt.title('StepsPerYear - examination of distribution')\n",
        "plt.show()"
      ],
      "execution_count": null,
      "outputs": []
    },
    {
      "cell_type": "markdown",
      "metadata": {
        "id": "qSKJ3UQpaors"
      },
      "source": [
        "try to detect which normalization is better in case of this feature"
      ]
    },
    {
      "cell_type": "code",
      "metadata": {
        "id": "bY5fxs6bT3jc"
      },
      "source": [
        "from sklearn import preprocessing\n",
        "\n",
        "min_max_scaler = preprocessing.MinMaxScaler()\n",
        "steps_copy = train[['StepsPerYear']].copy() # we used copy to show we checked this option, but we chosed the next option which modify with\n",
        "x_scaled = min_max_scaler.fit_transform(steps_copy)\n",
        "steps_copy = x_scaled\n",
        "\n",
        "sns.histplot(steps_copy) \n",
        "plt.grid()\n",
        "plt.title('StepsPerYear - examination of distribution')\n",
        "plt.show()"
      ],
      "execution_count": null,
      "outputs": []
    },
    {
      "cell_type": "code",
      "metadata": {
        "id": "cIb0qg8JZydR"
      },
      "source": [
        "train['StepsPerYear'] = (train['StepsPerYear'] - train['StepsPerYear'].median())/train['StepsPerYear'].std(ddof=0)\n",
        "\n",
        "sns.histplot(train.StepsPerYear) \n",
        "plt.grid()\n",
        "plt.title(col + ' - examination of distribution')\n",
        "plt.show()"
      ],
      "execution_count": null,
      "outputs": []
    },
    {
      "cell_type": "markdown",
      "metadata": {
        "id": "FUj8Zi2sMPXl"
      },
      "source": [
        "**Q 12**\n",
        "\n",
        "normalize all numeric data (not category)"
      ]
    },
    {
      "cell_type": "code",
      "metadata": {
        "id": "tJxMtYb_MSPa"
      },
      "source": [
        "for col in train.columns:\n",
        "  if train[col].dtypes == float or (train[col].dtypes == 'Int64' and train[col].unique().size > 25):    \n",
        "    train[col] = min_max_scaler.fit_transform(train[[col]])\n",
        "\n",
        "train"
      ],
      "execution_count": null,
      "outputs": []
    },
    {
      "cell_type": "markdown",
      "metadata": {
        "id": "Qh40TFbSB32F"
      },
      "source": [
        "**we rerun distribution plots for all attributes to see how they changed**"
      ]
    },
    {
      "cell_type": "code",
      "metadata": {
        "id": "m77HfDBpsD66"
      },
      "source": [
        "for col in train:\n",
        "  if train[col].dtypes == 'Int64' or train[col].dtypes == float:\n",
        "    sns.histplot(train[col])\n",
        "    plt.grid()\n",
        "    plt.title(col + ' - examination of distribution')\n",
        "    plt.show()"
      ],
      "execution_count": null,
      "outputs": []
    },
    {
      "cell_type": "markdown",
      "metadata": {
        "id": "rdWD8sdorm3T"
      },
      "source": [
        "# Part 3 - Feature Selecting"
      ]
    },
    {
      "cell_type": "markdown",
      "metadata": {
        "id": "tRcm7ANHrveM"
      },
      "source": [
        "**Q 13 - correlation table**"
      ]
    },
    {
      "cell_type": "code",
      "metadata": {
        "id": "Hn89wHZAtHFo"
      },
      "source": [
        "train_copy = train.copy()\n",
        "catagory_col = [col for col in train_copy.columns if 'Is_having_' in col]\n",
        "catagory_col.extend(['Sex', 'BloodType'])\n",
        "for col in catagory_col:\n",
        "  dic_tmp = {}\n",
        "  counter = 0\n",
        "  for t in train_copy[col].unique():\n",
        "    counter = counter+1\n",
        "    dic_tmp[t] = counter\n",
        "  train_copy[col] = train_copy[col].apply(lambda row: dic_tmp[row]).astype(float)"
      ],
      "execution_count": null,
      "outputs": []
    },
    {
      "cell_type": "code",
      "metadata": {
        "id": "i851DSc9yZD6"
      },
      "source": [
        "features = train_copy.columns.to_list()\n",
        "# print(train_copy.columns)\n",
        "f = plt.figure(figsize=(20, 15))\n",
        "plt.matshow(train_copy.corr(), fignum=f.number)\n",
        "plt.xticks(range(train_copy.select_dtypes(['number']).shape[1]), train_copy.select_dtypes(['number']).columns, fontsize=14, rotation=90)\n",
        "plt.yticks(range(train_copy.select_dtypes(['number']).shape[1]), train_copy.select_dtypes(['number']).columns, fontsize=14)\n",
        "cb = plt.colorbar()\n",
        "cb.ax.tick_params(labelsize=14)\n",
        "_ = plt.title('Correlation Matrix', fontsize=16)\n"
      ],
      "execution_count": null,
      "outputs": []
    },
    {
      "cell_type": "code",
      "metadata": {
        "id": "2ZLYJdBmH9Jm"
      },
      "source": [
        "train.corr()\n",
        "corr = train.corr()\n",
        "kot = corr[corr>=.85]\n",
        "plt.figure(figsize=(20,15))\n",
        "sns.heatmap(kot, cmap=\"Greens\")\n",
        "plt.show()\n",
        "print(train['PCR_83'].corr(train['PCR_45']))\n",
        "print(train['HouseholdExpenseOnSocialGames'].corr(train['SportsPerDay']))\n",
        "print(train['SocialActivitiesPerDay'].corr(train['HouseholdExpenseOnSocialGames']))\n"
      ],
      "execution_count": null,
      "outputs": []
    },
    {
      "cell_type": "code",
      "metadata": {
        "id": "mLZFTTEsz5qs"
      },
      "source": [
        "# manually removing att with high corollation\n",
        "train.drop('NrCousins', axis='columns', inplace=True)\n",
        "train.drop('PCR_83', axis='columns', inplace=True)\n",
        "train.drop('SocialActivitiesPerDay', axis='columns', inplace=True)\n",
        "train.drop('SportsPerDay', axis='columns', inplace=True)\n",
        "train.drop('StepsPerYear', axis='columns', inplace=True)"
      ],
      "execution_count": null,
      "outputs": []
    },
    {
      "cell_type": "markdown",
      "metadata": {
        "id": "d8chPywSXDvC"
      },
      "source": [
        "**Q 14**"
      ]
    },
    {
      "cell_type": "code",
      "metadata": {
        "id": "dLVZboZ85o4U"
      },
      "source": [
        "# explore the connections of targets attributes\n",
        "train_copy = train[['Virus', 'SpreadLevel_scala', 'Risk_scala']]\n",
        "train_copy=train_copy.dropna()\n",
        "train_copy.SpreadLevel_scala = train_copy.SpreadLevel_scala.astype(int)\n",
        "train_copy.Risk_scala = train_copy.Risk_scala.astype(int)\n",
        "sns.jointplot(data=train_copy, x='SpreadLevel_scala', y='Risk_scala', hue='Virus')\n",
        "plt.grid()\n",
        "plt.title('SpreadLevel_scala - Risk_scala joint distribution')\n",
        "plt.show()\n",
        "# note: we did not found this plot useful  "
      ],
      "execution_count": null,
      "outputs": []
    },
    {
      "cell_type": "markdown",
      "metadata": {
        "id": "DYe5fcv0sLXx"
      },
      "source": [
        "**Filter methods**\n",
        "\n",
        "we select according to joint attributes distribution plots "
      ]
    },
    {
      "cell_type": "code",
      "metadata": {
        "id": "GYjCIX-fn5W-",
        "colab": {
          "base_uri": "https://localhost:8080/"
        },
        "outputId": "99466759-2331-49dd-bf32-5d0098118d44"
      },
      "source": [
        "from itertools import combinations\n",
        "all_combos = [x for x in (combinations(train.columns[:-5],2))]\n",
        "print(all_combos)\n",
        "print(len(all_combos))"
      ],
      "execution_count": null,
      "outputs": [
        {
          "output_type": "stream",
          "text": [
            "[('ID', 'AgeGroup'), ('ID', 'BMI'), ('ID', 'BloodType'), ('ID', 'ConversatiosPerDay'), ('ID', 'CurrentLocation'), ('ID', 'x_location'), ('ID', 'y_location'), ('ID', 'DateOfPCRTest'), ('ID', 'MonthOfPCRTest'), ('ID', 'DisciplineScore'), ('ID', 'HappinessScore'), ('ID', 'HouseholdExpenseOnPresents'), ('ID', 'HouseholdExpenseOnSocialGames'), ('ID', 'HouseholdExpenseParkingTicketsPerYear'), ('ID', 'TicketsPerYearGroup'), ('ID', 'MedicalCarePerYear'), ('ID', 'PCR_10'), ('ID', 'PCR_17'), ('ID', 'PCR_19'), ('ID', 'PCR_32'), ('ID', 'PCR_45'), ('ID', 'PCR_46'), ('ID', 'PCR_7'), ('ID', 'PCR_72'), ('ID', 'PCR_76'), ('ID', 'PCR_8'), ('ID', 'PCR_89'), ('ID', 'PCR_9'), ('ID', 'PCR_93'), ('ID', 'PCR_95'), ('ID', 'Self_declaration_of_Illness_Form'), ('ID', 'Symptoms_list'), ('ID', 'Is_having_Low_appetite'), ('ID', 'Is_having_Sore_throat'), ('ID', 'Is_having_Nausea_or_vomiting'), ('ID', 'Is_having_Muscle_or_body_aches'), ('ID', 'Is_having_Diarrhea'), ('ID', 'Is_having_Fever'), ('ID', 'Is_having_Fatigue'), ('ID', 'Is_having_Congestion_or_runny nose'), ('ID', 'Is_having_Skin_redness'), ('ID', 'Is_having_Cough'), ('ID', 'Is_having_Shortness_of_breath'), ('ID', 'Is_having_Chills'), ('ID', 'Is_having_New_loss_of_taste_or_smell'), ('ID', 'Is_having_Headache'), ('ID', 'Sex'), ('ID', 'SocialMediaPerDay'), ('ID', 'StudingPerDay'), ('AgeGroup', 'BMI'), ('AgeGroup', 'BloodType'), ('AgeGroup', 'ConversatiosPerDay'), ('AgeGroup', 'CurrentLocation'), ('AgeGroup', 'x_location'), ('AgeGroup', 'y_location'), ('AgeGroup', 'DateOfPCRTest'), ('AgeGroup', 'MonthOfPCRTest'), ('AgeGroup', 'DisciplineScore'), ('AgeGroup', 'HappinessScore'), ('AgeGroup', 'HouseholdExpenseOnPresents'), ('AgeGroup', 'HouseholdExpenseOnSocialGames'), ('AgeGroup', 'HouseholdExpenseParkingTicketsPerYear'), ('AgeGroup', 'TicketsPerYearGroup'), ('AgeGroup', 'MedicalCarePerYear'), ('AgeGroup', 'PCR_10'), ('AgeGroup', 'PCR_17'), ('AgeGroup', 'PCR_19'), ('AgeGroup', 'PCR_32'), ('AgeGroup', 'PCR_45'), ('AgeGroup', 'PCR_46'), ('AgeGroup', 'PCR_7'), ('AgeGroup', 'PCR_72'), ('AgeGroup', 'PCR_76'), ('AgeGroup', 'PCR_8'), ('AgeGroup', 'PCR_89'), ('AgeGroup', 'PCR_9'), ('AgeGroup', 'PCR_93'), ('AgeGroup', 'PCR_95'), ('AgeGroup', 'Self_declaration_of_Illness_Form'), ('AgeGroup', 'Symptoms_list'), ('AgeGroup', 'Is_having_Low_appetite'), ('AgeGroup', 'Is_having_Sore_throat'), ('AgeGroup', 'Is_having_Nausea_or_vomiting'), ('AgeGroup', 'Is_having_Muscle_or_body_aches'), ('AgeGroup', 'Is_having_Diarrhea'), ('AgeGroup', 'Is_having_Fever'), ('AgeGroup', 'Is_having_Fatigue'), ('AgeGroup', 'Is_having_Congestion_or_runny nose'), ('AgeGroup', 'Is_having_Skin_redness'), ('AgeGroup', 'Is_having_Cough'), ('AgeGroup', 'Is_having_Shortness_of_breath'), ('AgeGroup', 'Is_having_Chills'), ('AgeGroup', 'Is_having_New_loss_of_taste_or_smell'), ('AgeGroup', 'Is_having_Headache'), ('AgeGroup', 'Sex'), ('AgeGroup', 'SocialMediaPerDay'), ('AgeGroup', 'StudingPerDay'), ('BMI', 'BloodType'), ('BMI', 'ConversatiosPerDay'), ('BMI', 'CurrentLocation'), ('BMI', 'x_location'), ('BMI', 'y_location'), ('BMI', 'DateOfPCRTest'), ('BMI', 'MonthOfPCRTest'), ('BMI', 'DisciplineScore'), ('BMI', 'HappinessScore'), ('BMI', 'HouseholdExpenseOnPresents'), ('BMI', 'HouseholdExpenseOnSocialGames'), ('BMI', 'HouseholdExpenseParkingTicketsPerYear'), ('BMI', 'TicketsPerYearGroup'), ('BMI', 'MedicalCarePerYear'), ('BMI', 'PCR_10'), ('BMI', 'PCR_17'), ('BMI', 'PCR_19'), ('BMI', 'PCR_32'), ('BMI', 'PCR_45'), ('BMI', 'PCR_46'), ('BMI', 'PCR_7'), ('BMI', 'PCR_72'), ('BMI', 'PCR_76'), ('BMI', 'PCR_8'), ('BMI', 'PCR_89'), ('BMI', 'PCR_9'), ('BMI', 'PCR_93'), ('BMI', 'PCR_95'), ('BMI', 'Self_declaration_of_Illness_Form'), ('BMI', 'Symptoms_list'), ('BMI', 'Is_having_Low_appetite'), ('BMI', 'Is_having_Sore_throat'), ('BMI', 'Is_having_Nausea_or_vomiting'), ('BMI', 'Is_having_Muscle_or_body_aches'), ('BMI', 'Is_having_Diarrhea'), ('BMI', 'Is_having_Fever'), ('BMI', 'Is_having_Fatigue'), ('BMI', 'Is_having_Congestion_or_runny nose'), ('BMI', 'Is_having_Skin_redness'), ('BMI', 'Is_having_Cough'), ('BMI', 'Is_having_Shortness_of_breath'), ('BMI', 'Is_having_Chills'), ('BMI', 'Is_having_New_loss_of_taste_or_smell'), ('BMI', 'Is_having_Headache'), ('BMI', 'Sex'), ('BMI', 'SocialMediaPerDay'), ('BMI', 'StudingPerDay'), ('BloodType', 'ConversatiosPerDay'), ('BloodType', 'CurrentLocation'), ('BloodType', 'x_location'), ('BloodType', 'y_location'), ('BloodType', 'DateOfPCRTest'), ('BloodType', 'MonthOfPCRTest'), ('BloodType', 'DisciplineScore'), ('BloodType', 'HappinessScore'), ('BloodType', 'HouseholdExpenseOnPresents'), ('BloodType', 'HouseholdExpenseOnSocialGames'), ('BloodType', 'HouseholdExpenseParkingTicketsPerYear'), ('BloodType', 'TicketsPerYearGroup'), ('BloodType', 'MedicalCarePerYear'), ('BloodType', 'PCR_10'), ('BloodType', 'PCR_17'), ('BloodType', 'PCR_19'), ('BloodType', 'PCR_32'), ('BloodType', 'PCR_45'), ('BloodType', 'PCR_46'), ('BloodType', 'PCR_7'), ('BloodType', 'PCR_72'), ('BloodType', 'PCR_76'), ('BloodType', 'PCR_8'), ('BloodType', 'PCR_89'), ('BloodType', 'PCR_9'), ('BloodType', 'PCR_93'), ('BloodType', 'PCR_95'), ('BloodType', 'Self_declaration_of_Illness_Form'), ('BloodType', 'Symptoms_list'), ('BloodType', 'Is_having_Low_appetite'), ('BloodType', 'Is_having_Sore_throat'), ('BloodType', 'Is_having_Nausea_or_vomiting'), ('BloodType', 'Is_having_Muscle_or_body_aches'), ('BloodType', 'Is_having_Diarrhea'), ('BloodType', 'Is_having_Fever'), ('BloodType', 'Is_having_Fatigue'), ('BloodType', 'Is_having_Congestion_or_runny nose'), ('BloodType', 'Is_having_Skin_redness'), ('BloodType', 'Is_having_Cough'), ('BloodType', 'Is_having_Shortness_of_breath'), ('BloodType', 'Is_having_Chills'), ('BloodType', 'Is_having_New_loss_of_taste_or_smell'), ('BloodType', 'Is_having_Headache'), ('BloodType', 'Sex'), ('BloodType', 'SocialMediaPerDay'), ('BloodType', 'StudingPerDay'), ('ConversatiosPerDay', 'CurrentLocation'), ('ConversatiosPerDay', 'x_location'), ('ConversatiosPerDay', 'y_location'), ('ConversatiosPerDay', 'DateOfPCRTest'), ('ConversatiosPerDay', 'MonthOfPCRTest'), ('ConversatiosPerDay', 'DisciplineScore'), ('ConversatiosPerDay', 'HappinessScore'), ('ConversatiosPerDay', 'HouseholdExpenseOnPresents'), ('ConversatiosPerDay', 'HouseholdExpenseOnSocialGames'), ('ConversatiosPerDay', 'HouseholdExpenseParkingTicketsPerYear'), ('ConversatiosPerDay', 'TicketsPerYearGroup'), ('ConversatiosPerDay', 'MedicalCarePerYear'), ('ConversatiosPerDay', 'PCR_10'), ('ConversatiosPerDay', 'PCR_17'), ('ConversatiosPerDay', 'PCR_19'), ('ConversatiosPerDay', 'PCR_32'), ('ConversatiosPerDay', 'PCR_45'), ('ConversatiosPerDay', 'PCR_46'), ('ConversatiosPerDay', 'PCR_7'), ('ConversatiosPerDay', 'PCR_72'), ('ConversatiosPerDay', 'PCR_76'), ('ConversatiosPerDay', 'PCR_8'), ('ConversatiosPerDay', 'PCR_89'), ('ConversatiosPerDay', 'PCR_9'), ('ConversatiosPerDay', 'PCR_93'), ('ConversatiosPerDay', 'PCR_95'), ('ConversatiosPerDay', 'Self_declaration_of_Illness_Form'), ('ConversatiosPerDay', 'Symptoms_list'), ('ConversatiosPerDay', 'Is_having_Low_appetite'), ('ConversatiosPerDay', 'Is_having_Sore_throat'), ('ConversatiosPerDay', 'Is_having_Nausea_or_vomiting'), ('ConversatiosPerDay', 'Is_having_Muscle_or_body_aches'), ('ConversatiosPerDay', 'Is_having_Diarrhea'), ('ConversatiosPerDay', 'Is_having_Fever'), ('ConversatiosPerDay', 'Is_having_Fatigue'), ('ConversatiosPerDay', 'Is_having_Congestion_or_runny nose'), ('ConversatiosPerDay', 'Is_having_Skin_redness'), ('ConversatiosPerDay', 'Is_having_Cough'), ('ConversatiosPerDay', 'Is_having_Shortness_of_breath'), ('ConversatiosPerDay', 'Is_having_Chills'), ('ConversatiosPerDay', 'Is_having_New_loss_of_taste_or_smell'), ('ConversatiosPerDay', 'Is_having_Headache'), ('ConversatiosPerDay', 'Sex'), ('ConversatiosPerDay', 'SocialMediaPerDay'), ('ConversatiosPerDay', 'StudingPerDay'), ('CurrentLocation', 'x_location'), ('CurrentLocation', 'y_location'), ('CurrentLocation', 'DateOfPCRTest'), ('CurrentLocation', 'MonthOfPCRTest'), ('CurrentLocation', 'DisciplineScore'), ('CurrentLocation', 'HappinessScore'), ('CurrentLocation', 'HouseholdExpenseOnPresents'), ('CurrentLocation', 'HouseholdExpenseOnSocialGames'), ('CurrentLocation', 'HouseholdExpenseParkingTicketsPerYear'), ('CurrentLocation', 'TicketsPerYearGroup'), ('CurrentLocation', 'MedicalCarePerYear'), ('CurrentLocation', 'PCR_10'), ('CurrentLocation', 'PCR_17'), ('CurrentLocation', 'PCR_19'), ('CurrentLocation', 'PCR_32'), ('CurrentLocation', 'PCR_45'), ('CurrentLocation', 'PCR_46'), ('CurrentLocation', 'PCR_7'), ('CurrentLocation', 'PCR_72'), ('CurrentLocation', 'PCR_76'), ('CurrentLocation', 'PCR_8'), ('CurrentLocation', 'PCR_89'), ('CurrentLocation', 'PCR_9'), ('CurrentLocation', 'PCR_93'), ('CurrentLocation', 'PCR_95'), ('CurrentLocation', 'Self_declaration_of_Illness_Form'), ('CurrentLocation', 'Symptoms_list'), ('CurrentLocation', 'Is_having_Low_appetite'), ('CurrentLocation', 'Is_having_Sore_throat'), ('CurrentLocation', 'Is_having_Nausea_or_vomiting'), ('CurrentLocation', 'Is_having_Muscle_or_body_aches'), ('CurrentLocation', 'Is_having_Diarrhea'), ('CurrentLocation', 'Is_having_Fever'), ('CurrentLocation', 'Is_having_Fatigue'), ('CurrentLocation', 'Is_having_Congestion_or_runny nose'), ('CurrentLocation', 'Is_having_Skin_redness'), ('CurrentLocation', 'Is_having_Cough'), ('CurrentLocation', 'Is_having_Shortness_of_breath'), ('CurrentLocation', 'Is_having_Chills'), ('CurrentLocation', 'Is_having_New_loss_of_taste_or_smell'), ('CurrentLocation', 'Is_having_Headache'), ('CurrentLocation', 'Sex'), ('CurrentLocation', 'SocialMediaPerDay'), ('CurrentLocation', 'StudingPerDay'), ('x_location', 'y_location'), ('x_location', 'DateOfPCRTest'), ('x_location', 'MonthOfPCRTest'), ('x_location', 'DisciplineScore'), ('x_location', 'HappinessScore'), ('x_location', 'HouseholdExpenseOnPresents'), ('x_location', 'HouseholdExpenseOnSocialGames'), ('x_location', 'HouseholdExpenseParkingTicketsPerYear'), ('x_location', 'TicketsPerYearGroup'), ('x_location', 'MedicalCarePerYear'), ('x_location', 'PCR_10'), ('x_location', 'PCR_17'), ('x_location', 'PCR_19'), ('x_location', 'PCR_32'), ('x_location', 'PCR_45'), ('x_location', 'PCR_46'), ('x_location', 'PCR_7'), ('x_location', 'PCR_72'), ('x_location', 'PCR_76'), ('x_location', 'PCR_8'), ('x_location', 'PCR_89'), ('x_location', 'PCR_9'), ('x_location', 'PCR_93'), ('x_location', 'PCR_95'), ('x_location', 'Self_declaration_of_Illness_Form'), ('x_location', 'Symptoms_list'), ('x_location', 'Is_having_Low_appetite'), ('x_location', 'Is_having_Sore_throat'), ('x_location', 'Is_having_Nausea_or_vomiting'), ('x_location', 'Is_having_Muscle_or_body_aches'), ('x_location', 'Is_having_Diarrhea'), ('x_location', 'Is_having_Fever'), ('x_location', 'Is_having_Fatigue'), ('x_location', 'Is_having_Congestion_or_runny nose'), ('x_location', 'Is_having_Skin_redness'), ('x_location', 'Is_having_Cough'), ('x_location', 'Is_having_Shortness_of_breath'), ('x_location', 'Is_having_Chills'), ('x_location', 'Is_having_New_loss_of_taste_or_smell'), ('x_location', 'Is_having_Headache'), ('x_location', 'Sex'), ('x_location', 'SocialMediaPerDay'), ('x_location', 'StudingPerDay'), ('y_location', 'DateOfPCRTest'), ('y_location', 'MonthOfPCRTest'), ('y_location', 'DisciplineScore'), ('y_location', 'HappinessScore'), ('y_location', 'HouseholdExpenseOnPresents'), ('y_location', 'HouseholdExpenseOnSocialGames'), ('y_location', 'HouseholdExpenseParkingTicketsPerYear'), ('y_location', 'TicketsPerYearGroup'), ('y_location', 'MedicalCarePerYear'), ('y_location', 'PCR_10'), ('y_location', 'PCR_17'), ('y_location', 'PCR_19'), ('y_location', 'PCR_32'), ('y_location', 'PCR_45'), ('y_location', 'PCR_46'), ('y_location', 'PCR_7'), ('y_location', 'PCR_72'), ('y_location', 'PCR_76'), ('y_location', 'PCR_8'), ('y_location', 'PCR_89'), ('y_location', 'PCR_9'), ('y_location', 'PCR_93'), ('y_location', 'PCR_95'), ('y_location', 'Self_declaration_of_Illness_Form'), ('y_location', 'Symptoms_list'), ('y_location', 'Is_having_Low_appetite'), ('y_location', 'Is_having_Sore_throat'), ('y_location', 'Is_having_Nausea_or_vomiting'), ('y_location', 'Is_having_Muscle_or_body_aches'), ('y_location', 'Is_having_Diarrhea'), ('y_location', 'Is_having_Fever'), ('y_location', 'Is_having_Fatigue'), ('y_location', 'Is_having_Congestion_or_runny nose'), ('y_location', 'Is_having_Skin_redness'), ('y_location', 'Is_having_Cough'), ('y_location', 'Is_having_Shortness_of_breath'), ('y_location', 'Is_having_Chills'), ('y_location', 'Is_having_New_loss_of_taste_or_smell'), ('y_location', 'Is_having_Headache'), ('y_location', 'Sex'), ('y_location', 'SocialMediaPerDay'), ('y_location', 'StudingPerDay'), ('DateOfPCRTest', 'MonthOfPCRTest'), ('DateOfPCRTest', 'DisciplineScore'), ('DateOfPCRTest', 'HappinessScore'), ('DateOfPCRTest', 'HouseholdExpenseOnPresents'), ('DateOfPCRTest', 'HouseholdExpenseOnSocialGames'), ('DateOfPCRTest', 'HouseholdExpenseParkingTicketsPerYear'), ('DateOfPCRTest', 'TicketsPerYearGroup'), ('DateOfPCRTest', 'MedicalCarePerYear'), ('DateOfPCRTest', 'PCR_10'), ('DateOfPCRTest', 'PCR_17'), ('DateOfPCRTest', 'PCR_19'), ('DateOfPCRTest', 'PCR_32'), ('DateOfPCRTest', 'PCR_45'), ('DateOfPCRTest', 'PCR_46'), ('DateOfPCRTest', 'PCR_7'), ('DateOfPCRTest', 'PCR_72'), ('DateOfPCRTest', 'PCR_76'), ('DateOfPCRTest', 'PCR_8'), ('DateOfPCRTest', 'PCR_89'), ('DateOfPCRTest', 'PCR_9'), ('DateOfPCRTest', 'PCR_93'), ('DateOfPCRTest', 'PCR_95'), ('DateOfPCRTest', 'Self_declaration_of_Illness_Form'), ('DateOfPCRTest', 'Symptoms_list'), ('DateOfPCRTest', 'Is_having_Low_appetite'), ('DateOfPCRTest', 'Is_having_Sore_throat'), ('DateOfPCRTest', 'Is_having_Nausea_or_vomiting'), ('DateOfPCRTest', 'Is_having_Muscle_or_body_aches'), ('DateOfPCRTest', 'Is_having_Diarrhea'), ('DateOfPCRTest', 'Is_having_Fever'), ('DateOfPCRTest', 'Is_having_Fatigue'), ('DateOfPCRTest', 'Is_having_Congestion_or_runny nose'), ('DateOfPCRTest', 'Is_having_Skin_redness'), ('DateOfPCRTest', 'Is_having_Cough'), ('DateOfPCRTest', 'Is_having_Shortness_of_breath'), ('DateOfPCRTest', 'Is_having_Chills'), ('DateOfPCRTest', 'Is_having_New_loss_of_taste_or_smell'), ('DateOfPCRTest', 'Is_having_Headache'), ('DateOfPCRTest', 'Sex'), ('DateOfPCRTest', 'SocialMediaPerDay'), ('DateOfPCRTest', 'StudingPerDay'), ('MonthOfPCRTest', 'DisciplineScore'), ('MonthOfPCRTest', 'HappinessScore'), ('MonthOfPCRTest', 'HouseholdExpenseOnPresents'), ('MonthOfPCRTest', 'HouseholdExpenseOnSocialGames'), ('MonthOfPCRTest', 'HouseholdExpenseParkingTicketsPerYear'), ('MonthOfPCRTest', 'TicketsPerYearGroup'), ('MonthOfPCRTest', 'MedicalCarePerYear'), ('MonthOfPCRTest', 'PCR_10'), ('MonthOfPCRTest', 'PCR_17'), ('MonthOfPCRTest', 'PCR_19'), ('MonthOfPCRTest', 'PCR_32'), ('MonthOfPCRTest', 'PCR_45'), ('MonthOfPCRTest', 'PCR_46'), ('MonthOfPCRTest', 'PCR_7'), ('MonthOfPCRTest', 'PCR_72'), ('MonthOfPCRTest', 'PCR_76'), ('MonthOfPCRTest', 'PCR_8'), ('MonthOfPCRTest', 'PCR_89'), ('MonthOfPCRTest', 'PCR_9'), ('MonthOfPCRTest', 'PCR_93'), ('MonthOfPCRTest', 'PCR_95'), ('MonthOfPCRTest', 'Self_declaration_of_Illness_Form'), ('MonthOfPCRTest', 'Symptoms_list'), ('MonthOfPCRTest', 'Is_having_Low_appetite'), ('MonthOfPCRTest', 'Is_having_Sore_throat'), ('MonthOfPCRTest', 'Is_having_Nausea_or_vomiting'), ('MonthOfPCRTest', 'Is_having_Muscle_or_body_aches'), ('MonthOfPCRTest', 'Is_having_Diarrhea'), ('MonthOfPCRTest', 'Is_having_Fever'), ('MonthOfPCRTest', 'Is_having_Fatigue'), ('MonthOfPCRTest', 'Is_having_Congestion_or_runny nose'), ('MonthOfPCRTest', 'Is_having_Skin_redness'), ('MonthOfPCRTest', 'Is_having_Cough'), ('MonthOfPCRTest', 'Is_having_Shortness_of_breath'), ('MonthOfPCRTest', 'Is_having_Chills'), ('MonthOfPCRTest', 'Is_having_New_loss_of_taste_or_smell'), ('MonthOfPCRTest', 'Is_having_Headache'), ('MonthOfPCRTest', 'Sex'), ('MonthOfPCRTest', 'SocialMediaPerDay'), ('MonthOfPCRTest', 'StudingPerDay'), ('DisciplineScore', 'HappinessScore'), ('DisciplineScore', 'HouseholdExpenseOnPresents'), ('DisciplineScore', 'HouseholdExpenseOnSocialGames'), ('DisciplineScore', 'HouseholdExpenseParkingTicketsPerYear'), ('DisciplineScore', 'TicketsPerYearGroup'), ('DisciplineScore', 'MedicalCarePerYear'), ('DisciplineScore', 'PCR_10'), ('DisciplineScore', 'PCR_17'), ('DisciplineScore', 'PCR_19'), ('DisciplineScore', 'PCR_32'), ('DisciplineScore', 'PCR_45'), ('DisciplineScore', 'PCR_46'), ('DisciplineScore', 'PCR_7'), ('DisciplineScore', 'PCR_72'), ('DisciplineScore', 'PCR_76'), ('DisciplineScore', 'PCR_8'), ('DisciplineScore', 'PCR_89'), ('DisciplineScore', 'PCR_9'), ('DisciplineScore', 'PCR_93'), ('DisciplineScore', 'PCR_95'), ('DisciplineScore', 'Self_declaration_of_Illness_Form'), ('DisciplineScore', 'Symptoms_list'), ('DisciplineScore', 'Is_having_Low_appetite'), ('DisciplineScore', 'Is_having_Sore_throat'), ('DisciplineScore', 'Is_having_Nausea_or_vomiting'), ('DisciplineScore', 'Is_having_Muscle_or_body_aches'), ('DisciplineScore', 'Is_having_Diarrhea'), ('DisciplineScore', 'Is_having_Fever'), ('DisciplineScore', 'Is_having_Fatigue'), ('DisciplineScore', 'Is_having_Congestion_or_runny nose'), ('DisciplineScore', 'Is_having_Skin_redness'), ('DisciplineScore', 'Is_having_Cough'), ('DisciplineScore', 'Is_having_Shortness_of_breath'), ('DisciplineScore', 'Is_having_Chills'), ('DisciplineScore', 'Is_having_New_loss_of_taste_or_smell'), ('DisciplineScore', 'Is_having_Headache'), ('DisciplineScore', 'Sex'), ('DisciplineScore', 'SocialMediaPerDay'), ('DisciplineScore', 'StudingPerDay'), ('HappinessScore', 'HouseholdExpenseOnPresents'), ('HappinessScore', 'HouseholdExpenseOnSocialGames'), ('HappinessScore', 'HouseholdExpenseParkingTicketsPerYear'), ('HappinessScore', 'TicketsPerYearGroup'), ('HappinessScore', 'MedicalCarePerYear'), ('HappinessScore', 'PCR_10'), ('HappinessScore', 'PCR_17'), ('HappinessScore', 'PCR_19'), ('HappinessScore', 'PCR_32'), ('HappinessScore', 'PCR_45'), ('HappinessScore', 'PCR_46'), ('HappinessScore', 'PCR_7'), ('HappinessScore', 'PCR_72'), ('HappinessScore', 'PCR_76'), ('HappinessScore', 'PCR_8'), ('HappinessScore', 'PCR_89'), ('HappinessScore', 'PCR_9'), ('HappinessScore', 'PCR_93'), ('HappinessScore', 'PCR_95'), ('HappinessScore', 'Self_declaration_of_Illness_Form'), ('HappinessScore', 'Symptoms_list'), ('HappinessScore', 'Is_having_Low_appetite'), ('HappinessScore', 'Is_having_Sore_throat'), ('HappinessScore', 'Is_having_Nausea_or_vomiting'), ('HappinessScore', 'Is_having_Muscle_or_body_aches'), ('HappinessScore', 'Is_having_Diarrhea'), ('HappinessScore', 'Is_having_Fever'), ('HappinessScore', 'Is_having_Fatigue'), ('HappinessScore', 'Is_having_Congestion_or_runny nose'), ('HappinessScore', 'Is_having_Skin_redness'), ('HappinessScore', 'Is_having_Cough'), ('HappinessScore', 'Is_having_Shortness_of_breath'), ('HappinessScore', 'Is_having_Chills'), ('HappinessScore', 'Is_having_New_loss_of_taste_or_smell'), ('HappinessScore', 'Is_having_Headache'), ('HappinessScore', 'Sex'), ('HappinessScore', 'SocialMediaPerDay'), ('HappinessScore', 'StudingPerDay'), ('HouseholdExpenseOnPresents', 'HouseholdExpenseOnSocialGames'), ('HouseholdExpenseOnPresents', 'HouseholdExpenseParkingTicketsPerYear'), ('HouseholdExpenseOnPresents', 'TicketsPerYearGroup'), ('HouseholdExpenseOnPresents', 'MedicalCarePerYear'), ('HouseholdExpenseOnPresents', 'PCR_10'), ('HouseholdExpenseOnPresents', 'PCR_17'), ('HouseholdExpenseOnPresents', 'PCR_19'), ('HouseholdExpenseOnPresents', 'PCR_32'), ('HouseholdExpenseOnPresents', 'PCR_45'), ('HouseholdExpenseOnPresents', 'PCR_46'), ('HouseholdExpenseOnPresents', 'PCR_7'), ('HouseholdExpenseOnPresents', 'PCR_72'), ('HouseholdExpenseOnPresents', 'PCR_76'), ('HouseholdExpenseOnPresents', 'PCR_8'), ('HouseholdExpenseOnPresents', 'PCR_89'), ('HouseholdExpenseOnPresents', 'PCR_9'), ('HouseholdExpenseOnPresents', 'PCR_93'), ('HouseholdExpenseOnPresents', 'PCR_95'), ('HouseholdExpenseOnPresents', 'Self_declaration_of_Illness_Form'), ('HouseholdExpenseOnPresents', 'Symptoms_list'), ('HouseholdExpenseOnPresents', 'Is_having_Low_appetite'), ('HouseholdExpenseOnPresents', 'Is_having_Sore_throat'), ('HouseholdExpenseOnPresents', 'Is_having_Nausea_or_vomiting'), ('HouseholdExpenseOnPresents', 'Is_having_Muscle_or_body_aches'), ('HouseholdExpenseOnPresents', 'Is_having_Diarrhea'), ('HouseholdExpenseOnPresents', 'Is_having_Fever'), ('HouseholdExpenseOnPresents', 'Is_having_Fatigue'), ('HouseholdExpenseOnPresents', 'Is_having_Congestion_or_runny nose'), ('HouseholdExpenseOnPresents', 'Is_having_Skin_redness'), ('HouseholdExpenseOnPresents', 'Is_having_Cough'), ('HouseholdExpenseOnPresents', 'Is_having_Shortness_of_breath'), ('HouseholdExpenseOnPresents', 'Is_having_Chills'), ('HouseholdExpenseOnPresents', 'Is_having_New_loss_of_taste_or_smell'), ('HouseholdExpenseOnPresents', 'Is_having_Headache'), ('HouseholdExpenseOnPresents', 'Sex'), ('HouseholdExpenseOnPresents', 'SocialMediaPerDay'), ('HouseholdExpenseOnPresents', 'StudingPerDay'), ('HouseholdExpenseOnSocialGames', 'HouseholdExpenseParkingTicketsPerYear'), ('HouseholdExpenseOnSocialGames', 'TicketsPerYearGroup'), ('HouseholdExpenseOnSocialGames', 'MedicalCarePerYear'), ('HouseholdExpenseOnSocialGames', 'PCR_10'), ('HouseholdExpenseOnSocialGames', 'PCR_17'), ('HouseholdExpenseOnSocialGames', 'PCR_19'), ('HouseholdExpenseOnSocialGames', 'PCR_32'), ('HouseholdExpenseOnSocialGames', 'PCR_45'), ('HouseholdExpenseOnSocialGames', 'PCR_46'), ('HouseholdExpenseOnSocialGames', 'PCR_7'), ('HouseholdExpenseOnSocialGames', 'PCR_72'), ('HouseholdExpenseOnSocialGames', 'PCR_76'), ('HouseholdExpenseOnSocialGames', 'PCR_8'), ('HouseholdExpenseOnSocialGames', 'PCR_89'), ('HouseholdExpenseOnSocialGames', 'PCR_9'), ('HouseholdExpenseOnSocialGames', 'PCR_93'), ('HouseholdExpenseOnSocialGames', 'PCR_95'), ('HouseholdExpenseOnSocialGames', 'Self_declaration_of_Illness_Form'), ('HouseholdExpenseOnSocialGames', 'Symptoms_list'), ('HouseholdExpenseOnSocialGames', 'Is_having_Low_appetite'), ('HouseholdExpenseOnSocialGames', 'Is_having_Sore_throat'), ('HouseholdExpenseOnSocialGames', 'Is_having_Nausea_or_vomiting'), ('HouseholdExpenseOnSocialGames', 'Is_having_Muscle_or_body_aches'), ('HouseholdExpenseOnSocialGames', 'Is_having_Diarrhea'), ('HouseholdExpenseOnSocialGames', 'Is_having_Fever'), ('HouseholdExpenseOnSocialGames', 'Is_having_Fatigue'), ('HouseholdExpenseOnSocialGames', 'Is_having_Congestion_or_runny nose'), ('HouseholdExpenseOnSocialGames', 'Is_having_Skin_redness'), ('HouseholdExpenseOnSocialGames', 'Is_having_Cough'), ('HouseholdExpenseOnSocialGames', 'Is_having_Shortness_of_breath'), ('HouseholdExpenseOnSocialGames', 'Is_having_Chills'), ('HouseholdExpenseOnSocialGames', 'Is_having_New_loss_of_taste_or_smell'), ('HouseholdExpenseOnSocialGames', 'Is_having_Headache'), ('HouseholdExpenseOnSocialGames', 'Sex'), ('HouseholdExpenseOnSocialGames', 'SocialMediaPerDay'), ('HouseholdExpenseOnSocialGames', 'StudingPerDay'), ('HouseholdExpenseParkingTicketsPerYear', 'TicketsPerYearGroup'), ('HouseholdExpenseParkingTicketsPerYear', 'MedicalCarePerYear'), ('HouseholdExpenseParkingTicketsPerYear', 'PCR_10'), ('HouseholdExpenseParkingTicketsPerYear', 'PCR_17'), ('HouseholdExpenseParkingTicketsPerYear', 'PCR_19'), ('HouseholdExpenseParkingTicketsPerYear', 'PCR_32'), ('HouseholdExpenseParkingTicketsPerYear', 'PCR_45'), ('HouseholdExpenseParkingTicketsPerYear', 'PCR_46'), ('HouseholdExpenseParkingTicketsPerYear', 'PCR_7'), ('HouseholdExpenseParkingTicketsPerYear', 'PCR_72'), ('HouseholdExpenseParkingTicketsPerYear', 'PCR_76'), ('HouseholdExpenseParkingTicketsPerYear', 'PCR_8'), ('HouseholdExpenseParkingTicketsPerYear', 'PCR_89'), ('HouseholdExpenseParkingTicketsPerYear', 'PCR_9'), ('HouseholdExpenseParkingTicketsPerYear', 'PCR_93'), ('HouseholdExpenseParkingTicketsPerYear', 'PCR_95'), ('HouseholdExpenseParkingTicketsPerYear', 'Self_declaration_of_Illness_Form'), ('HouseholdExpenseParkingTicketsPerYear', 'Symptoms_list'), ('HouseholdExpenseParkingTicketsPerYear', 'Is_having_Low_appetite'), ('HouseholdExpenseParkingTicketsPerYear', 'Is_having_Sore_throat'), ('HouseholdExpenseParkingTicketsPerYear', 'Is_having_Nausea_or_vomiting'), ('HouseholdExpenseParkingTicketsPerYear', 'Is_having_Muscle_or_body_aches'), ('HouseholdExpenseParkingTicketsPerYear', 'Is_having_Diarrhea'), ('HouseholdExpenseParkingTicketsPerYear', 'Is_having_Fever'), ('HouseholdExpenseParkingTicketsPerYear', 'Is_having_Fatigue'), ('HouseholdExpenseParkingTicketsPerYear', 'Is_having_Congestion_or_runny nose'), ('HouseholdExpenseParkingTicketsPerYear', 'Is_having_Skin_redness'), ('HouseholdExpenseParkingTicketsPerYear', 'Is_having_Cough'), ('HouseholdExpenseParkingTicketsPerYear', 'Is_having_Shortness_of_breath'), ('HouseholdExpenseParkingTicketsPerYear', 'Is_having_Chills'), ('HouseholdExpenseParkingTicketsPerYear', 'Is_having_New_loss_of_taste_or_smell'), ('HouseholdExpenseParkingTicketsPerYear', 'Is_having_Headache'), ('HouseholdExpenseParkingTicketsPerYear', 'Sex'), ('HouseholdExpenseParkingTicketsPerYear', 'SocialMediaPerDay'), ('HouseholdExpenseParkingTicketsPerYear', 'StudingPerDay'), ('TicketsPerYearGroup', 'MedicalCarePerYear'), ('TicketsPerYearGroup', 'PCR_10'), ('TicketsPerYearGroup', 'PCR_17'), ('TicketsPerYearGroup', 'PCR_19'), ('TicketsPerYearGroup', 'PCR_32'), ('TicketsPerYearGroup', 'PCR_45'), ('TicketsPerYearGroup', 'PCR_46'), ('TicketsPerYearGroup', 'PCR_7'), ('TicketsPerYearGroup', 'PCR_72'), ('TicketsPerYearGroup', 'PCR_76'), ('TicketsPerYearGroup', 'PCR_8'), ('TicketsPerYearGroup', 'PCR_89'), ('TicketsPerYearGroup', 'PCR_9'), ('TicketsPerYearGroup', 'PCR_93'), ('TicketsPerYearGroup', 'PCR_95'), ('TicketsPerYearGroup', 'Self_declaration_of_Illness_Form'), ('TicketsPerYearGroup', 'Symptoms_list'), ('TicketsPerYearGroup', 'Is_having_Low_appetite'), ('TicketsPerYearGroup', 'Is_having_Sore_throat'), ('TicketsPerYearGroup', 'Is_having_Nausea_or_vomiting'), ('TicketsPerYearGroup', 'Is_having_Muscle_or_body_aches'), ('TicketsPerYearGroup', 'Is_having_Diarrhea'), ('TicketsPerYearGroup', 'Is_having_Fever'), ('TicketsPerYearGroup', 'Is_having_Fatigue'), ('TicketsPerYearGroup', 'Is_having_Congestion_or_runny nose'), ('TicketsPerYearGroup', 'Is_having_Skin_redness'), ('TicketsPerYearGroup', 'Is_having_Cough'), ('TicketsPerYearGroup', 'Is_having_Shortness_of_breath'), ('TicketsPerYearGroup', 'Is_having_Chills'), ('TicketsPerYearGroup', 'Is_having_New_loss_of_taste_or_smell'), ('TicketsPerYearGroup', 'Is_having_Headache'), ('TicketsPerYearGroup', 'Sex'), ('TicketsPerYearGroup', 'SocialMediaPerDay'), ('TicketsPerYearGroup', 'StudingPerDay'), ('MedicalCarePerYear', 'PCR_10'), ('MedicalCarePerYear', 'PCR_17'), ('MedicalCarePerYear', 'PCR_19'), ('MedicalCarePerYear', 'PCR_32'), ('MedicalCarePerYear', 'PCR_45'), ('MedicalCarePerYear', 'PCR_46'), ('MedicalCarePerYear', 'PCR_7'), ('MedicalCarePerYear', 'PCR_72'), ('MedicalCarePerYear', 'PCR_76'), ('MedicalCarePerYear', 'PCR_8'), ('MedicalCarePerYear', 'PCR_89'), ('MedicalCarePerYear', 'PCR_9'), ('MedicalCarePerYear', 'PCR_93'), ('MedicalCarePerYear', 'PCR_95'), ('MedicalCarePerYear', 'Self_declaration_of_Illness_Form'), ('MedicalCarePerYear', 'Symptoms_list'), ('MedicalCarePerYear', 'Is_having_Low_appetite'), ('MedicalCarePerYear', 'Is_having_Sore_throat'), ('MedicalCarePerYear', 'Is_having_Nausea_or_vomiting'), ('MedicalCarePerYear', 'Is_having_Muscle_or_body_aches'), ('MedicalCarePerYear', 'Is_having_Diarrhea'), ('MedicalCarePerYear', 'Is_having_Fever'), ('MedicalCarePerYear', 'Is_having_Fatigue'), ('MedicalCarePerYear', 'Is_having_Congestion_or_runny nose'), ('MedicalCarePerYear', 'Is_having_Skin_redness'), ('MedicalCarePerYear', 'Is_having_Cough'), ('MedicalCarePerYear', 'Is_having_Shortness_of_breath'), ('MedicalCarePerYear', 'Is_having_Chills'), ('MedicalCarePerYear', 'Is_having_New_loss_of_taste_or_smell'), ('MedicalCarePerYear', 'Is_having_Headache'), ('MedicalCarePerYear', 'Sex'), ('MedicalCarePerYear', 'SocialMediaPerDay'), ('MedicalCarePerYear', 'StudingPerDay'), ('PCR_10', 'PCR_17'), ('PCR_10', 'PCR_19'), ('PCR_10', 'PCR_32'), ('PCR_10', 'PCR_45'), ('PCR_10', 'PCR_46'), ('PCR_10', 'PCR_7'), ('PCR_10', 'PCR_72'), ('PCR_10', 'PCR_76'), ('PCR_10', 'PCR_8'), ('PCR_10', 'PCR_89'), ('PCR_10', 'PCR_9'), ('PCR_10', 'PCR_93'), ('PCR_10', 'PCR_95'), ('PCR_10', 'Self_declaration_of_Illness_Form'), ('PCR_10', 'Symptoms_list'), ('PCR_10', 'Is_having_Low_appetite'), ('PCR_10', 'Is_having_Sore_throat'), ('PCR_10', 'Is_having_Nausea_or_vomiting'), ('PCR_10', 'Is_having_Muscle_or_body_aches'), ('PCR_10', 'Is_having_Diarrhea'), ('PCR_10', 'Is_having_Fever'), ('PCR_10', 'Is_having_Fatigue'), ('PCR_10', 'Is_having_Congestion_or_runny nose'), ('PCR_10', 'Is_having_Skin_redness'), ('PCR_10', 'Is_having_Cough'), ('PCR_10', 'Is_having_Shortness_of_breath'), ('PCR_10', 'Is_having_Chills'), ('PCR_10', 'Is_having_New_loss_of_taste_or_smell'), ('PCR_10', 'Is_having_Headache'), ('PCR_10', 'Sex'), ('PCR_10', 'SocialMediaPerDay'), ('PCR_10', 'StudingPerDay'), ('PCR_17', 'PCR_19'), ('PCR_17', 'PCR_32'), ('PCR_17', 'PCR_45'), ('PCR_17', 'PCR_46'), ('PCR_17', 'PCR_7'), ('PCR_17', 'PCR_72'), ('PCR_17', 'PCR_76'), ('PCR_17', 'PCR_8'), ('PCR_17', 'PCR_89'), ('PCR_17', 'PCR_9'), ('PCR_17', 'PCR_93'), ('PCR_17', 'PCR_95'), ('PCR_17', 'Self_declaration_of_Illness_Form'), ('PCR_17', 'Symptoms_list'), ('PCR_17', 'Is_having_Low_appetite'), ('PCR_17', 'Is_having_Sore_throat'), ('PCR_17', 'Is_having_Nausea_or_vomiting'), ('PCR_17', 'Is_having_Muscle_or_body_aches'), ('PCR_17', 'Is_having_Diarrhea'), ('PCR_17', 'Is_having_Fever'), ('PCR_17', 'Is_having_Fatigue'), ('PCR_17', 'Is_having_Congestion_or_runny nose'), ('PCR_17', 'Is_having_Skin_redness'), ('PCR_17', 'Is_having_Cough'), ('PCR_17', 'Is_having_Shortness_of_breath'), ('PCR_17', 'Is_having_Chills'), ('PCR_17', 'Is_having_New_loss_of_taste_or_smell'), ('PCR_17', 'Is_having_Headache'), ('PCR_17', 'Sex'), ('PCR_17', 'SocialMediaPerDay'), ('PCR_17', 'StudingPerDay'), ('PCR_19', 'PCR_32'), ('PCR_19', 'PCR_45'), ('PCR_19', 'PCR_46'), ('PCR_19', 'PCR_7'), ('PCR_19', 'PCR_72'), ('PCR_19', 'PCR_76'), ('PCR_19', 'PCR_8'), ('PCR_19', 'PCR_89'), ('PCR_19', 'PCR_9'), ('PCR_19', 'PCR_93'), ('PCR_19', 'PCR_95'), ('PCR_19', 'Self_declaration_of_Illness_Form'), ('PCR_19', 'Symptoms_list'), ('PCR_19', 'Is_having_Low_appetite'), ('PCR_19', 'Is_having_Sore_throat'), ('PCR_19', 'Is_having_Nausea_or_vomiting'), ('PCR_19', 'Is_having_Muscle_or_body_aches'), ('PCR_19', 'Is_having_Diarrhea'), ('PCR_19', 'Is_having_Fever'), ('PCR_19', 'Is_having_Fatigue'), ('PCR_19', 'Is_having_Congestion_or_runny nose'), ('PCR_19', 'Is_having_Skin_redness'), ('PCR_19', 'Is_having_Cough'), ('PCR_19', 'Is_having_Shortness_of_breath'), ('PCR_19', 'Is_having_Chills'), ('PCR_19', 'Is_having_New_loss_of_taste_or_smell'), ('PCR_19', 'Is_having_Headache'), ('PCR_19', 'Sex'), ('PCR_19', 'SocialMediaPerDay'), ('PCR_19', 'StudingPerDay'), ('PCR_32', 'PCR_45'), ('PCR_32', 'PCR_46'), ('PCR_32', 'PCR_7'), ('PCR_32', 'PCR_72'), ('PCR_32', 'PCR_76'), ('PCR_32', 'PCR_8'), ('PCR_32', 'PCR_89'), ('PCR_32', 'PCR_9'), ('PCR_32', 'PCR_93'), ('PCR_32', 'PCR_95'), ('PCR_32', 'Self_declaration_of_Illness_Form'), ('PCR_32', 'Symptoms_list'), ('PCR_32', 'Is_having_Low_appetite'), ('PCR_32', 'Is_having_Sore_throat'), ('PCR_32', 'Is_having_Nausea_or_vomiting'), ('PCR_32', 'Is_having_Muscle_or_body_aches'), ('PCR_32', 'Is_having_Diarrhea'), ('PCR_32', 'Is_having_Fever'), ('PCR_32', 'Is_having_Fatigue'), ('PCR_32', 'Is_having_Congestion_or_runny nose'), ('PCR_32', 'Is_having_Skin_redness'), ('PCR_32', 'Is_having_Cough'), ('PCR_32', 'Is_having_Shortness_of_breath'), ('PCR_32', 'Is_having_Chills'), ('PCR_32', 'Is_having_New_loss_of_taste_or_smell'), ('PCR_32', 'Is_having_Headache'), ('PCR_32', 'Sex'), ('PCR_32', 'SocialMediaPerDay'), ('PCR_32', 'StudingPerDay'), ('PCR_45', 'PCR_46'), ('PCR_45', 'PCR_7'), ('PCR_45', 'PCR_72'), ('PCR_45', 'PCR_76'), ('PCR_45', 'PCR_8'), ('PCR_45', 'PCR_89'), ('PCR_45', 'PCR_9'), ('PCR_45', 'PCR_93'), ('PCR_45', 'PCR_95'), ('PCR_45', 'Self_declaration_of_Illness_Form'), ('PCR_45', 'Symptoms_list'), ('PCR_45', 'Is_having_Low_appetite'), ('PCR_45', 'Is_having_Sore_throat'), ('PCR_45', 'Is_having_Nausea_or_vomiting'), ('PCR_45', 'Is_having_Muscle_or_body_aches'), ('PCR_45', 'Is_having_Diarrhea'), ('PCR_45', 'Is_having_Fever'), ('PCR_45', 'Is_having_Fatigue'), ('PCR_45', 'Is_having_Congestion_or_runny nose'), ('PCR_45', 'Is_having_Skin_redness'), ('PCR_45', 'Is_having_Cough'), ('PCR_45', 'Is_having_Shortness_of_breath'), ('PCR_45', 'Is_having_Chills'), ('PCR_45', 'Is_having_New_loss_of_taste_or_smell'), ('PCR_45', 'Is_having_Headache'), ('PCR_45', 'Sex'), ('PCR_45', 'SocialMediaPerDay'), ('PCR_45', 'StudingPerDay'), ('PCR_46', 'PCR_7'), ('PCR_46', 'PCR_72'), ('PCR_46', 'PCR_76'), ('PCR_46', 'PCR_8'), ('PCR_46', 'PCR_89'), ('PCR_46', 'PCR_9'), ('PCR_46', 'PCR_93'), ('PCR_46', 'PCR_95'), ('PCR_46', 'Self_declaration_of_Illness_Form'), ('PCR_46', 'Symptoms_list'), ('PCR_46', 'Is_having_Low_appetite'), ('PCR_46', 'Is_having_Sore_throat'), ('PCR_46', 'Is_having_Nausea_or_vomiting'), ('PCR_46', 'Is_having_Muscle_or_body_aches'), ('PCR_46', 'Is_having_Diarrhea'), ('PCR_46', 'Is_having_Fever'), ('PCR_46', 'Is_having_Fatigue'), ('PCR_46', 'Is_having_Congestion_or_runny nose'), ('PCR_46', 'Is_having_Skin_redness'), ('PCR_46', 'Is_having_Cough'), ('PCR_46', 'Is_having_Shortness_of_breath'), ('PCR_46', 'Is_having_Chills'), ('PCR_46', 'Is_having_New_loss_of_taste_or_smell'), ('PCR_46', 'Is_having_Headache'), ('PCR_46', 'Sex'), ('PCR_46', 'SocialMediaPerDay'), ('PCR_46', 'StudingPerDay'), ('PCR_7', 'PCR_72'), ('PCR_7', 'PCR_76'), ('PCR_7', 'PCR_8'), ('PCR_7', 'PCR_89'), ('PCR_7', 'PCR_9'), ('PCR_7', 'PCR_93'), ('PCR_7', 'PCR_95'), ('PCR_7', 'Self_declaration_of_Illness_Form'), ('PCR_7', 'Symptoms_list'), ('PCR_7', 'Is_having_Low_appetite'), ('PCR_7', 'Is_having_Sore_throat'), ('PCR_7', 'Is_having_Nausea_or_vomiting'), ('PCR_7', 'Is_having_Muscle_or_body_aches'), ('PCR_7', 'Is_having_Diarrhea'), ('PCR_7', 'Is_having_Fever'), ('PCR_7', 'Is_having_Fatigue'), ('PCR_7', 'Is_having_Congestion_or_runny nose'), ('PCR_7', 'Is_having_Skin_redness'), ('PCR_7', 'Is_having_Cough'), ('PCR_7', 'Is_having_Shortness_of_breath'), ('PCR_7', 'Is_having_Chills'), ('PCR_7', 'Is_having_New_loss_of_taste_or_smell'), ('PCR_7', 'Is_having_Headache'), ('PCR_7', 'Sex'), ('PCR_7', 'SocialMediaPerDay'), ('PCR_7', 'StudingPerDay'), ('PCR_72', 'PCR_76'), ('PCR_72', 'PCR_8'), ('PCR_72', 'PCR_89'), ('PCR_72', 'PCR_9'), ('PCR_72', 'PCR_93'), ('PCR_72', 'PCR_95'), ('PCR_72', 'Self_declaration_of_Illness_Form'), ('PCR_72', 'Symptoms_list'), ('PCR_72', 'Is_having_Low_appetite'), ('PCR_72', 'Is_having_Sore_throat'), ('PCR_72', 'Is_having_Nausea_or_vomiting'), ('PCR_72', 'Is_having_Muscle_or_body_aches'), ('PCR_72', 'Is_having_Diarrhea'), ('PCR_72', 'Is_having_Fever'), ('PCR_72', 'Is_having_Fatigue'), ('PCR_72', 'Is_having_Congestion_or_runny nose'), ('PCR_72', 'Is_having_Skin_redness'), ('PCR_72', 'Is_having_Cough'), ('PCR_72', 'Is_having_Shortness_of_breath'), ('PCR_72', 'Is_having_Chills'), ('PCR_72', 'Is_having_New_loss_of_taste_or_smell'), ('PCR_72', 'Is_having_Headache'), ('PCR_72', 'Sex'), ('PCR_72', 'SocialMediaPerDay'), ('PCR_72', 'StudingPerDay'), ('PCR_76', 'PCR_8'), ('PCR_76', 'PCR_89'), ('PCR_76', 'PCR_9'), ('PCR_76', 'PCR_93'), ('PCR_76', 'PCR_95'), ('PCR_76', 'Self_declaration_of_Illness_Form'), ('PCR_76', 'Symptoms_list'), ('PCR_76', 'Is_having_Low_appetite'), ('PCR_76', 'Is_having_Sore_throat'), ('PCR_76', 'Is_having_Nausea_or_vomiting'), ('PCR_76', 'Is_having_Muscle_or_body_aches'), ('PCR_76', 'Is_having_Diarrhea'), ('PCR_76', 'Is_having_Fever'), ('PCR_76', 'Is_having_Fatigue'), ('PCR_76', 'Is_having_Congestion_or_runny nose'), ('PCR_76', 'Is_having_Skin_redness'), ('PCR_76', 'Is_having_Cough'), ('PCR_76', 'Is_having_Shortness_of_breath'), ('PCR_76', 'Is_having_Chills'), ('PCR_76', 'Is_having_New_loss_of_taste_or_smell'), ('PCR_76', 'Is_having_Headache'), ('PCR_76', 'Sex'), ('PCR_76', 'SocialMediaPerDay'), ('PCR_76', 'StudingPerDay'), ('PCR_8', 'PCR_89'), ('PCR_8', 'PCR_9'), ('PCR_8', 'PCR_93'), ('PCR_8', 'PCR_95'), ('PCR_8', 'Self_declaration_of_Illness_Form'), ('PCR_8', 'Symptoms_list'), ('PCR_8', 'Is_having_Low_appetite'), ('PCR_8', 'Is_having_Sore_throat'), ('PCR_8', 'Is_having_Nausea_or_vomiting'), ('PCR_8', 'Is_having_Muscle_or_body_aches'), ('PCR_8', 'Is_having_Diarrhea'), ('PCR_8', 'Is_having_Fever'), ('PCR_8', 'Is_having_Fatigue'), ('PCR_8', 'Is_having_Congestion_or_runny nose'), ('PCR_8', 'Is_having_Skin_redness'), ('PCR_8', 'Is_having_Cough'), ('PCR_8', 'Is_having_Shortness_of_breath'), ('PCR_8', 'Is_having_Chills'), ('PCR_8', 'Is_having_New_loss_of_taste_or_smell'), ('PCR_8', 'Is_having_Headache'), ('PCR_8', 'Sex'), ('PCR_8', 'SocialMediaPerDay'), ('PCR_8', 'StudingPerDay'), ('PCR_89', 'PCR_9'), ('PCR_89', 'PCR_93'), ('PCR_89', 'PCR_95'), ('PCR_89', 'Self_declaration_of_Illness_Form'), ('PCR_89', 'Symptoms_list'), ('PCR_89', 'Is_having_Low_appetite'), ('PCR_89', 'Is_having_Sore_throat'), ('PCR_89', 'Is_having_Nausea_or_vomiting'), ('PCR_89', 'Is_having_Muscle_or_body_aches'), ('PCR_89', 'Is_having_Diarrhea'), ('PCR_89', 'Is_having_Fever'), ('PCR_89', 'Is_having_Fatigue'), ('PCR_89', 'Is_having_Congestion_or_runny nose'), ('PCR_89', 'Is_having_Skin_redness'), ('PCR_89', 'Is_having_Cough'), ('PCR_89', 'Is_having_Shortness_of_breath'), ('PCR_89', 'Is_having_Chills'), ('PCR_89', 'Is_having_New_loss_of_taste_or_smell'), ('PCR_89', 'Is_having_Headache'), ('PCR_89', 'Sex'), ('PCR_89', 'SocialMediaPerDay'), ('PCR_89', 'StudingPerDay'), ('PCR_9', 'PCR_93'), ('PCR_9', 'PCR_95'), ('PCR_9', 'Self_declaration_of_Illness_Form'), ('PCR_9', 'Symptoms_list'), ('PCR_9', 'Is_having_Low_appetite'), ('PCR_9', 'Is_having_Sore_throat'), ('PCR_9', 'Is_having_Nausea_or_vomiting'), ('PCR_9', 'Is_having_Muscle_or_body_aches'), ('PCR_9', 'Is_having_Diarrhea'), ('PCR_9', 'Is_having_Fever'), ('PCR_9', 'Is_having_Fatigue'), ('PCR_9', 'Is_having_Congestion_or_runny nose'), ('PCR_9', 'Is_having_Skin_redness'), ('PCR_9', 'Is_having_Cough'), ('PCR_9', 'Is_having_Shortness_of_breath'), ('PCR_9', 'Is_having_Chills'), ('PCR_9', 'Is_having_New_loss_of_taste_or_smell'), ('PCR_9', 'Is_having_Headache'), ('PCR_9', 'Sex'), ('PCR_9', 'SocialMediaPerDay'), ('PCR_9', 'StudingPerDay'), ('PCR_93', 'PCR_95'), ('PCR_93', 'Self_declaration_of_Illness_Form'), ('PCR_93', 'Symptoms_list'), ('PCR_93', 'Is_having_Low_appetite'), ('PCR_93', 'Is_having_Sore_throat'), ('PCR_93', 'Is_having_Nausea_or_vomiting'), ('PCR_93', 'Is_having_Muscle_or_body_aches'), ('PCR_93', 'Is_having_Diarrhea'), ('PCR_93', 'Is_having_Fever'), ('PCR_93', 'Is_having_Fatigue'), ('PCR_93', 'Is_having_Congestion_or_runny nose'), ('PCR_93', 'Is_having_Skin_redness'), ('PCR_93', 'Is_having_Cough'), ('PCR_93', 'Is_having_Shortness_of_breath'), ('PCR_93', 'Is_having_Chills'), ('PCR_93', 'Is_having_New_loss_of_taste_or_smell'), ('PCR_93', 'Is_having_Headache'), ('PCR_93', 'Sex'), ('PCR_93', 'SocialMediaPerDay'), ('PCR_93', 'StudingPerDay'), ('PCR_95', 'Self_declaration_of_Illness_Form'), ('PCR_95', 'Symptoms_list'), ('PCR_95', 'Is_having_Low_appetite'), ('PCR_95', 'Is_having_Sore_throat'), ('PCR_95', 'Is_having_Nausea_or_vomiting'), ('PCR_95', 'Is_having_Muscle_or_body_aches'), ('PCR_95', 'Is_having_Diarrhea'), ('PCR_95', 'Is_having_Fever'), ('PCR_95', 'Is_having_Fatigue'), ('PCR_95', 'Is_having_Congestion_or_runny nose'), ('PCR_95', 'Is_having_Skin_redness'), ('PCR_95', 'Is_having_Cough'), ('PCR_95', 'Is_having_Shortness_of_breath'), ('PCR_95', 'Is_having_Chills'), ('PCR_95', 'Is_having_New_loss_of_taste_or_smell'), ('PCR_95', 'Is_having_Headache'), ('PCR_95', 'Sex'), ('PCR_95', 'SocialMediaPerDay'), ('PCR_95', 'StudingPerDay'), ('Self_declaration_of_Illness_Form', 'Symptoms_list'), ('Self_declaration_of_Illness_Form', 'Is_having_Low_appetite'), ('Self_declaration_of_Illness_Form', 'Is_having_Sore_throat'), ('Self_declaration_of_Illness_Form', 'Is_having_Nausea_or_vomiting'), ('Self_declaration_of_Illness_Form', 'Is_having_Muscle_or_body_aches'), ('Self_declaration_of_Illness_Form', 'Is_having_Diarrhea'), ('Self_declaration_of_Illness_Form', 'Is_having_Fever'), ('Self_declaration_of_Illness_Form', 'Is_having_Fatigue'), ('Self_declaration_of_Illness_Form', 'Is_having_Congestion_or_runny nose'), ('Self_declaration_of_Illness_Form', 'Is_having_Skin_redness'), ('Self_declaration_of_Illness_Form', 'Is_having_Cough'), ('Self_declaration_of_Illness_Form', 'Is_having_Shortness_of_breath'), ('Self_declaration_of_Illness_Form', 'Is_having_Chills'), ('Self_declaration_of_Illness_Form', 'Is_having_New_loss_of_taste_or_smell'), ('Self_declaration_of_Illness_Form', 'Is_having_Headache'), ('Self_declaration_of_Illness_Form', 'Sex'), ('Self_declaration_of_Illness_Form', 'SocialMediaPerDay'), ('Self_declaration_of_Illness_Form', 'StudingPerDay'), ('Symptoms_list', 'Is_having_Low_appetite'), ('Symptoms_list', 'Is_having_Sore_throat'), ('Symptoms_list', 'Is_having_Nausea_or_vomiting'), ('Symptoms_list', 'Is_having_Muscle_or_body_aches'), ('Symptoms_list', 'Is_having_Diarrhea'), ('Symptoms_list', 'Is_having_Fever'), ('Symptoms_list', 'Is_having_Fatigue'), ('Symptoms_list', 'Is_having_Congestion_or_runny nose'), ('Symptoms_list', 'Is_having_Skin_redness'), ('Symptoms_list', 'Is_having_Cough'), ('Symptoms_list', 'Is_having_Shortness_of_breath'), ('Symptoms_list', 'Is_having_Chills'), ('Symptoms_list', 'Is_having_New_loss_of_taste_or_smell'), ('Symptoms_list', 'Is_having_Headache'), ('Symptoms_list', 'Sex'), ('Symptoms_list', 'SocialMediaPerDay'), ('Symptoms_list', 'StudingPerDay'), ('Is_having_Low_appetite', 'Is_having_Sore_throat'), ('Is_having_Low_appetite', 'Is_having_Nausea_or_vomiting'), ('Is_having_Low_appetite', 'Is_having_Muscle_or_body_aches'), ('Is_having_Low_appetite', 'Is_having_Diarrhea'), ('Is_having_Low_appetite', 'Is_having_Fever'), ('Is_having_Low_appetite', 'Is_having_Fatigue'), ('Is_having_Low_appetite', 'Is_having_Congestion_or_runny nose'), ('Is_having_Low_appetite', 'Is_having_Skin_redness'), ('Is_having_Low_appetite', 'Is_having_Cough'), ('Is_having_Low_appetite', 'Is_having_Shortness_of_breath'), ('Is_having_Low_appetite', 'Is_having_Chills'), ('Is_having_Low_appetite', 'Is_having_New_loss_of_taste_or_smell'), ('Is_having_Low_appetite', 'Is_having_Headache'), ('Is_having_Low_appetite', 'Sex'), ('Is_having_Low_appetite', 'SocialMediaPerDay'), ('Is_having_Low_appetite', 'StudingPerDay'), ('Is_having_Sore_throat', 'Is_having_Nausea_or_vomiting'), ('Is_having_Sore_throat', 'Is_having_Muscle_or_body_aches'), ('Is_having_Sore_throat', 'Is_having_Diarrhea'), ('Is_having_Sore_throat', 'Is_having_Fever'), ('Is_having_Sore_throat', 'Is_having_Fatigue'), ('Is_having_Sore_throat', 'Is_having_Congestion_or_runny nose'), ('Is_having_Sore_throat', 'Is_having_Skin_redness'), ('Is_having_Sore_throat', 'Is_having_Cough'), ('Is_having_Sore_throat', 'Is_having_Shortness_of_breath'), ('Is_having_Sore_throat', 'Is_having_Chills'), ('Is_having_Sore_throat', 'Is_having_New_loss_of_taste_or_smell'), ('Is_having_Sore_throat', 'Is_having_Headache'), ('Is_having_Sore_throat', 'Sex'), ('Is_having_Sore_throat', 'SocialMediaPerDay'), ('Is_having_Sore_throat', 'StudingPerDay'), ('Is_having_Nausea_or_vomiting', 'Is_having_Muscle_or_body_aches'), ('Is_having_Nausea_or_vomiting', 'Is_having_Diarrhea'), ('Is_having_Nausea_or_vomiting', 'Is_having_Fever'), ('Is_having_Nausea_or_vomiting', 'Is_having_Fatigue'), ('Is_having_Nausea_or_vomiting', 'Is_having_Congestion_or_runny nose'), ('Is_having_Nausea_or_vomiting', 'Is_having_Skin_redness'), ('Is_having_Nausea_or_vomiting', 'Is_having_Cough'), ('Is_having_Nausea_or_vomiting', 'Is_having_Shortness_of_breath'), ('Is_having_Nausea_or_vomiting', 'Is_having_Chills'), ('Is_having_Nausea_or_vomiting', 'Is_having_New_loss_of_taste_or_smell'), ('Is_having_Nausea_or_vomiting', 'Is_having_Headache'), ('Is_having_Nausea_or_vomiting', 'Sex'), ('Is_having_Nausea_or_vomiting', 'SocialMediaPerDay'), ('Is_having_Nausea_or_vomiting', 'StudingPerDay'), ('Is_having_Muscle_or_body_aches', 'Is_having_Diarrhea'), ('Is_having_Muscle_or_body_aches', 'Is_having_Fever'), ('Is_having_Muscle_or_body_aches', 'Is_having_Fatigue'), ('Is_having_Muscle_or_body_aches', 'Is_having_Congestion_or_runny nose'), ('Is_having_Muscle_or_body_aches', 'Is_having_Skin_redness'), ('Is_having_Muscle_or_body_aches', 'Is_having_Cough'), ('Is_having_Muscle_or_body_aches', 'Is_having_Shortness_of_breath'), ('Is_having_Muscle_or_body_aches', 'Is_having_Chills'), ('Is_having_Muscle_or_body_aches', 'Is_having_New_loss_of_taste_or_smell'), ('Is_having_Muscle_or_body_aches', 'Is_having_Headache'), ('Is_having_Muscle_or_body_aches', 'Sex'), ('Is_having_Muscle_or_body_aches', 'SocialMediaPerDay'), ('Is_having_Muscle_or_body_aches', 'StudingPerDay'), ('Is_having_Diarrhea', 'Is_having_Fever'), ('Is_having_Diarrhea', 'Is_having_Fatigue'), ('Is_having_Diarrhea', 'Is_having_Congestion_or_runny nose'), ('Is_having_Diarrhea', 'Is_having_Skin_redness'), ('Is_having_Diarrhea', 'Is_having_Cough'), ('Is_having_Diarrhea', 'Is_having_Shortness_of_breath'), ('Is_having_Diarrhea', 'Is_having_Chills'), ('Is_having_Diarrhea', 'Is_having_New_loss_of_taste_or_smell'), ('Is_having_Diarrhea', 'Is_having_Headache'), ('Is_having_Diarrhea', 'Sex'), ('Is_having_Diarrhea', 'SocialMediaPerDay'), ('Is_having_Diarrhea', 'StudingPerDay'), ('Is_having_Fever', 'Is_having_Fatigue'), ('Is_having_Fever', 'Is_having_Congestion_or_runny nose'), ('Is_having_Fever', 'Is_having_Skin_redness'), ('Is_having_Fever', 'Is_having_Cough'), ('Is_having_Fever', 'Is_having_Shortness_of_breath'), ('Is_having_Fever', 'Is_having_Chills'), ('Is_having_Fever', 'Is_having_New_loss_of_taste_or_smell'), ('Is_having_Fever', 'Is_having_Headache'), ('Is_having_Fever', 'Sex'), ('Is_having_Fever', 'SocialMediaPerDay'), ('Is_having_Fever', 'StudingPerDay'), ('Is_having_Fatigue', 'Is_having_Congestion_or_runny nose'), ('Is_having_Fatigue', 'Is_having_Skin_redness'), ('Is_having_Fatigue', 'Is_having_Cough'), ('Is_having_Fatigue', 'Is_having_Shortness_of_breath'), ('Is_having_Fatigue', 'Is_having_Chills'), ('Is_having_Fatigue', 'Is_having_New_loss_of_taste_or_smell'), ('Is_having_Fatigue', 'Is_having_Headache'), ('Is_having_Fatigue', 'Sex'), ('Is_having_Fatigue', 'SocialMediaPerDay'), ('Is_having_Fatigue', 'StudingPerDay'), ('Is_having_Congestion_or_runny nose', 'Is_having_Skin_redness'), ('Is_having_Congestion_or_runny nose', 'Is_having_Cough'), ('Is_having_Congestion_or_runny nose', 'Is_having_Shortness_of_breath'), ('Is_having_Congestion_or_runny nose', 'Is_having_Chills'), ('Is_having_Congestion_or_runny nose', 'Is_having_New_loss_of_taste_or_smell'), ('Is_having_Congestion_or_runny nose', 'Is_having_Headache'), ('Is_having_Congestion_or_runny nose', 'Sex'), ('Is_having_Congestion_or_runny nose', 'SocialMediaPerDay'), ('Is_having_Congestion_or_runny nose', 'StudingPerDay'), ('Is_having_Skin_redness', 'Is_having_Cough'), ('Is_having_Skin_redness', 'Is_having_Shortness_of_breath'), ('Is_having_Skin_redness', 'Is_having_Chills'), ('Is_having_Skin_redness', 'Is_having_New_loss_of_taste_or_smell'), ('Is_having_Skin_redness', 'Is_having_Headache'), ('Is_having_Skin_redness', 'Sex'), ('Is_having_Skin_redness', 'SocialMediaPerDay'), ('Is_having_Skin_redness', 'StudingPerDay'), ('Is_having_Cough', 'Is_having_Shortness_of_breath'), ('Is_having_Cough', 'Is_having_Chills'), ('Is_having_Cough', 'Is_having_New_loss_of_taste_or_smell'), ('Is_having_Cough', 'Is_having_Headache'), ('Is_having_Cough', 'Sex'), ('Is_having_Cough', 'SocialMediaPerDay'), ('Is_having_Cough', 'StudingPerDay'), ('Is_having_Shortness_of_breath', 'Is_having_Chills'), ('Is_having_Shortness_of_breath', 'Is_having_New_loss_of_taste_or_smell'), ('Is_having_Shortness_of_breath', 'Is_having_Headache'), ('Is_having_Shortness_of_breath', 'Sex'), ('Is_having_Shortness_of_breath', 'SocialMediaPerDay'), ('Is_having_Shortness_of_breath', 'StudingPerDay'), ('Is_having_Chills', 'Is_having_New_loss_of_taste_or_smell'), ('Is_having_Chills', 'Is_having_Headache'), ('Is_having_Chills', 'Sex'), ('Is_having_Chills', 'SocialMediaPerDay'), ('Is_having_Chills', 'StudingPerDay'), ('Is_having_New_loss_of_taste_or_smell', 'Is_having_Headache'), ('Is_having_New_loss_of_taste_or_smell', 'Sex'), ('Is_having_New_loss_of_taste_or_smell', 'SocialMediaPerDay'), ('Is_having_New_loss_of_taste_or_smell', 'StudingPerDay'), ('Is_having_Headache', 'Sex'), ('Is_having_Headache', 'SocialMediaPerDay'), ('Is_having_Headache', 'StudingPerDay'), ('Sex', 'SocialMediaPerDay'), ('Sex', 'StudingPerDay'), ('SocialMediaPerDay', 'StudingPerDay')]\n",
            "1225\n"
          ],
          "name": "stdout"
        }
      ]
    },
    {
      "cell_type": "code",
      "metadata": {
        "id": "K1BI-akAeyQm"
      },
      "source": [
        "# manually explore joint attributes distribution\n",
        "def joint_att_distribution(start, finish):\n",
        "  for pair in all_combos[start:finish]:\n",
        "    col1 = pair[0]\n",
        "    col2 = pair[1]\n",
        "    #   continue\n",
        "    if (train[col1].dtypes == 'Int64' or train[col1].dtypes == float) and (train[col2].dtypes == 'Int64' or train[col2].dtypes == float):\n",
        "      for label in ['Virus', 'Risk', 'SpreadLevel']:\n",
        "        train_copy = train[[col1, col2, 'Virus', 'Risk', 'SpreadLevel']]\n",
        "        train_copy.dropna\n",
        "        if train_copy[col1].dtypes == 'Int64': # apperently this specific plot does not work with 'Int64' so i need to convert it to simple int\n",
        "          train_copy[col1] = train_copy[col1].astype(int)\n",
        "        if train_copy[col2].dtypes == 'Int64':\n",
        "          train_copy[col2] = train_copy[col2].astype(int) \n",
        "        sns.jointplot(data=train_copy, x=col1, y=col2, hue=label)\n",
        "        plt.grid()\n",
        "        plt.title(col1 + ' - ' + col2 + ' joint distribution')\n",
        "        plt.show()\n"
      ],
      "execution_count": null,
      "outputs": []
    },
    {
      "cell_type": "code",
      "metadata": {
        "id": "XLv4gtrGqhNw"
      },
      "source": [
        "joint_att_distribution(0, 400) # too much to print in one code-cell"
      ],
      "execution_count": null,
      "outputs": []
    },
    {
      "cell_type": "code",
      "metadata": {
        "id": "SPYSZ_MUqjbw"
      },
      "source": [
        "joint_att_distribution(400, 800)"
      ],
      "execution_count": null,
      "outputs": []
    },
    {
      "cell_type": "code",
      "metadata": {
        "id": "hxdxeB7yql4v"
      },
      "source": [
        "joint_att_distribution(800, 1200)"
      ],
      "execution_count": null,
      "outputs": []
    },
    {
      "cell_type": "code",
      "metadata": {
        "id": "lgAr5bZnrDQT"
      },
      "source": [
        "joint_att_distribution(1200, 1485)"
      ],
      "execution_count": null,
      "outputs": []
    },
    {
      "cell_type": "code",
      "metadata": {
        "id": "j7iynz-bSUjB"
      },
      "source": [
        "# now we try the same thing but with the catagorial column (after modify them inorder to run the same code)\n",
        "train_copy = train.copy()\n",
        "catagory_col = [col for col in train_copy.columns if 'Is_having_' in col]\n",
        "catagory_col.extend(['Sex', 'BloodType'])\n",
        "print(catagory_col)\n",
        "for col in catagory_col:\n",
        "  dic_tmp = {}\n",
        "  counter = 0\n",
        "  for t in train_copy[col].unique():\n",
        "    counter = counter+1\n",
        "    dic_tmp[t] = counter\n",
        "  train_copy[col] = train_copy[col].apply(lambda row: dic_tmp[row]).astype(float)\n",
        "\n",
        "for col1 in catagory_col:\n",
        "  for col2 in train_copy.columns[1:-5]:\n",
        "    if col1 != col2 and (train_copy[col2].dtypes == 'Int64' or train_copy[col2].dtypes == float):\n",
        "      for label in ['Virus', 'Risk', 'SpreadLevel']:\n",
        "        train_copy2 = train_copy[[col1, col2, 'Virus', 'Risk', 'SpreadLevel']]\n",
        "        train_copy2.dropna(inplace=True)\n",
        "        if train_copy2[col2].dtypes == 'Int64':\n",
        "          train_copy2[col2] = train_copy2[col2].astype(int) \n",
        "        sns.jointplot(data=train_copy2, x=col1, y=col2, hue=label)\n",
        "        plt.grid()\n",
        "        plt.title(col1 + ' - ' + col2 + ' joint distribution')\n",
        "        plt.show()\n"
      ],
      "execution_count": null,
      "outputs": []
    },
    {
      "cell_type": "markdown",
      "metadata": {
        "id": "o73Rh84u-GUS"
      },
      "source": [
        "**Wrapper method - forward**"
      ]
    },
    {
      "cell_type": "code",
      "metadata": {
        "id": "eH2vclf5pgVn"
      },
      "source": [
        "from mlxtend.feature_selection import SequentialFeatureSelector as SFS\n",
        "from sklearn.linear_model import LinearRegression\n",
        "from sklearn.neighbors import KNeighborsClassifier\n",
        "training_model = LinearRegression()\n",
        "\n",
        "col_names = [col for col in train.columns if train[col].dtypes == 'Int64' or train[col].dtypes == float or train[col].dtypes == bool]\n",
        "\n",
        "train_copy = train.copy()\n",
        "dic_tmp = {}\n",
        "counter = 0\n",
        "for t in train.Virus.unique():\n",
        "  counter = counter+1\n",
        "  dic_tmp[t] = counter\n",
        "train_copy['Virus_numeric'] = train_copy.Virus.apply(lambda row: dic_tmp[row]).astype(int)\n",
        "train_copy['Is_covid'] = train_copy.Virus.apply(lambda row: 1 if row == 'covid' else 0).astype(int)\n",
        "\n",
        "col_names.extend(['Virus_numeric', 'Is_covid'])\n",
        "\n",
        "train_copy = train_copy[col_names].dropna()\n",
        "\n",
        "X =  train_copy[col_names[:-4]]\n",
        "sfs = SFS(training_model, k_features=12, forward=True, floating=False)\n",
        "\n",
        "print(col_names)\n",
        "train_copy"
      ],
      "execution_count": null,
      "outputs": []
    },
    {
      "cell_type": "code",
      "metadata": {
        "id": "SMPVxB9t1VTc"
      },
      "source": [
        "y =  train_copy.Risk_scala\n",
        "\n",
        "sfs.fit(X, y)\n",
        "\n",
        "top_att1 = pd.DataFrame(sfs.subsets_).transpose()\n",
        "top_att1"
      ],
      "execution_count": null,
      "outputs": []
    },
    {
      "cell_type": "code",
      "metadata": {
        "id": "AbLGXJTX5HOi"
      },
      "source": [
        "y =  train_copy.SpreadLevel_scala\n",
        "\n",
        "sfs.fit(X, y)\n",
        "\n",
        "top_att2 = pd.DataFrame(sfs.subsets_).transpose()\n",
        "top_att2"
      ],
      "execution_count": null,
      "outputs": []
    },
    {
      "cell_type": "code",
      "metadata": {
        "id": "WpDHfM18lYZ2"
      },
      "source": [
        "y =  train_copy.Is_covid\n",
        "\n",
        "sfs.fit(X, y)\n",
        "\n",
        "top_att3 = pd.DataFrame(sfs.subsets_).transpose()\n",
        "top_att3"
      ],
      "execution_count": null,
      "outputs": []
    },
    {
      "cell_type": "code",
      "metadata": {
        "id": "J0UaRJ9Oss-C"
      },
      "source": [
        "y =  train_copy.Virus_numeric\n",
        "\n",
        "sfs.fit(X, y)\n",
        "\n",
        "top_att4 = pd.DataFrame(sfs.subsets_).transpose()\n",
        "top_att4"
      ],
      "execution_count": null,
      "outputs": []
    },
    {
      "cell_type": "code",
      "metadata": {
        "colab": {
          "base_uri": "https://localhost:8080/"
        },
        "id": "MnpMrnEus0qO",
        "outputId": "228d11ce-80d9-4ed3-9c35-3151c43074b0"
      },
      "source": [
        "chosen_att = []\n",
        "chosen_att.extend(top_att1.feature_names[8])\n",
        "chosen_att.extend(top_att2.feature_names[8])\n",
        "chosen_att.extend(top_att3.feature_names[8])\n",
        "chosen_att.extend(top_att4.feature_names[8])\n",
        "chosen_att = list(set(chosen_att))\n",
        "chosen_att.sort()\n",
        "print(chosen_att)"
      ],
      "execution_count": null,
      "outputs": [
        {
          "output_type": "stream",
          "text": [
            "['AgeGroup', 'BMI', 'ConversatiosPerDay', 'DisciplineScore', 'HappinessScore', 'HouseholdExpenseOnPresents', 'HouseholdExpenseOnSocialGames', 'ID', 'Is_having_Cough', 'Is_having_Diarrhea', 'Is_having_Fatigue', 'Is_having_Fever', 'Is_having_Shortness_of_breath', 'MedicalCarePerYear', 'PCR_10', 'PCR_17', 'PCR_19', 'PCR_32', 'PCR_72', 'PCR_8', 'PCR_89', 'PCR_9', 'PCR_95', 'SocialMediaPerDay']\n"
          ],
          "name": "stdout"
        }
      ]
    },
    {
      "cell_type": "markdown",
      "metadata": {
        "id": "lvT0XtR_wxka"
      },
      "source": [
        "**Wrapper method - backward**"
      ]
    },
    {
      "cell_type": "code",
      "metadata": {
        "id": "Gk-y63UFJZIt"
      },
      "source": [
        "col_to_check =  [col for col in col_names if col not in chosen_att]\n",
        "training_model = KNeighborsClassifier(n_neighbors=30)\n",
        "\n",
        "worst_att_list = []\n",
        "for i in range(8):\n",
        "  worst_score = float('inf')\n",
        "  curr_worst = ''\n",
        "  for col in col_to_check[:-4]:\n",
        "    curr_cols = col_to_check.copy()\n",
        "    curr_cols.remove(col)\n",
        "    X = train_copy[curr_cols]\n",
        "    y = train_copy.Is_covid\n",
        "    sbs = SFS(training_model, forward=False, floating=False, k_features=len(curr_cols))\n",
        "    sbs = sbs.fit(X, y)\n",
        "    curr_score = pd.DataFrame(sbs.subsets_).transpose().iloc(0)[0][0]\n",
        "    # print('BP - ' + col + ', score: ', curr_score)\n",
        "    if worst_score > curr_score:\n",
        "      worst_score = curr_score\n",
        "      curr_worst = col\n",
        "  worst_att_list.append(curr_worst)\n",
        "  col_to_check.remove(curr_worst)\n",
        "\n",
        "worst_att_list"
      ],
      "execution_count": null,
      "outputs": []
    },
    {
      "cell_type": "markdown",
      "metadata": {
        "id": "gDbiRZUFOu11"
      },
      "source": [
        "**Bi-Variate Analysis**"
      ]
    },
    {
      "cell_type": "code",
      "metadata": {
        "id": "jrxlyJTRlbvz"
      },
      "source": [
        "# manually explore attributes distribution with the targets attributes\n",
        "for col in train.columns:\n",
        "  if train[col].dtypes != object and train[col].unique().size < 25 :\n",
        "    for label in ['Virus', 'Risk', 'SpreadLevel']:\n",
        "      new_plot = pd.crosstab(train[col], train[label])\n",
        "      new_plot.plot(kind='bar', stacked=True,  grid=False)\n",
        "      plt.grid()\n",
        "      plt.show()\n"
      ],
      "execution_count": null,
      "outputs": []
    },
    {
      "cell_type": "markdown",
      "metadata": {
        "id": "S6notP59YggE"
      },
      "source": [
        "**Q 15**"
      ]
    },
    {
      "cell_type": "code",
      "metadata": {
        "id": "4xXxDULhdUcO"
      },
      "source": [
        "data = []\n",
        "labels = [x for x in dataset.columns if 'Is_having' not in x and '_scala' not in x]\n",
        "\n",
        "manually_unwanted = ['Address', 'CurrentLocation', 'Job', 'PCR_11', 'PCR_15','PCR_83', 'NrCousins', 'SportsPerDay', 'SocialActivitiesPerDay', 'StepsPerYear']\n",
        "manually_probably_not_intresting = ['StudingPerDay']\n",
        "manually_wanted = ['Self_declaration_of_Illness_Form', 'Virus', 'SpreadLevel', 'Risk']\n",
        "manually_remove = ['Region', 'TicketsPerYearGroup', 'MonthOfPCRTest', 'Symptoms_list', 'x_location', 'y_location']\n",
        "\n",
        "for col in labels:\n",
        "  if col in manually_remove:\n",
        "    continue\n",
        "  elif col in worst_att_list or col in manually_unwanted or col in manually_probably_not_intresting:\n",
        "    data.append([col, 'N'])\n",
        "  elif col in chosen_att or col in manually_wanted:\n",
        "    data.append([col, 'Y'])\n",
        "  else:\n",
        "    data.append([col, 'Y']) # left over\n",
        "    # data.append([col, '???']) # for debug only\n",
        "\n",
        "df = pd.DataFrame(data, columns = ['Attribute', 'Take_or_throw'])\n",
        "df"
      ],
      "execution_count": null,
      "outputs": []
    },
    {
      "cell_type": "code",
      "metadata": {
        "id": "jJ5LuM6uCPb2"
      },
      "source": [
        "thrown_col = df[df.Take_or_throw=='N'].Attribute.to_list()\n",
        "print(len(thrown_col), \"not taken:\")\n",
        "print(thrown_col)\n",
        "taken_col = df[df.Take_or_throw=='Y'].Attribute.to_list()\n",
        "print(len(taken_col), \"taken:\")\n",
        "print(taken_col)"
      ],
      "execution_count": null,
      "outputs": []
    },
    {
      "cell_type": "markdown",
      "metadata": {
        "id": "M9n5rZKi6jlr"
      },
      "source": [
        "**Q 16**"
      ]
    },
    {
      "cell_type": "code",
      "metadata": {
        "id": "F-TpjxgS5jrb"
      },
      "source": [
        "# # not sure if needed or not...\n",
        "# from sklearn.model_selection import train_test_split\n",
        "# tmp, test = train_test_split(dataset, test_size=0.2, random_state=12)\n",
        "# train, validation =  train_test_split(tmp, test_size=0.25, random_state=12)\n",
        "\n",
        "# # we are going to modify slices of dataset so pandas see it as 'SettingWithCopyWarning'. those msg are not relevant and annoying so...\n",
        "# pd.options.mode.chained_assignment = None  # default='warn'\n"
      ],
      "execution_count": null,
      "outputs": []
    },
    {
      "cell_type": "code",
      "metadata": {
        "colab": {
          "base_uri": "https://localhost:8080/"
        },
        "id": "sPvDKTx2gVgU",
        "outputId": "23cf6707-2194-4e4a-c41d-49f07bc55eb2"
      },
      "source": [
        "train_modify = train[taken_col].copy()\n",
        "validation_modify = validation[taken_col].copy()\n",
        "test_modify = test[taken_col].copy()\n",
        "# print(train_modify.columns) # only for debug\n",
        "# train_modify"
      ],
      "execution_count": null,
      "outputs": [
        {
          "output_type": "execute_result",
          "data": {
            "text/plain": [
              "Index(['ID', 'AgeGroup', 'BMI', 'BloodType', 'ConversatiosPerDay',\n",
              "       'DateOfPCRTest', 'DisciplineScore', 'HappinessScore',\n",
              "       'HouseholdExpenseOnPresents', 'HouseholdExpenseOnSocialGames',\n",
              "       'MedicalCarePerYear', 'PCR_10', 'PCR_17', 'PCR_19', 'PCR_32', 'PCR_72',\n",
              "       'PCR_8', 'PCR_89', 'PCR_9', 'PCR_95',\n",
              "       'Self_declaration_of_Illness_Form', 'Sex', 'SocialMediaPerDay', 'Virus',\n",
              "       'SpreadLevel', 'Risk'],\n",
              "      dtype='object')"
            ]
          },
          "metadata": {
            "tags": []
          },
          "execution_count": 72
        }
      ]
    },
    {
      "cell_type": "code",
      "metadata": {
        "id": "WekLqoiohrUb",
        "colab": {
          "base_uri": "https://localhost:8080/",
          "height": 17
        },
        "outputId": "344509b3-a289-430a-bf10-109903f88fd9"
      },
      "source": [
        "from google.colab import files\n",
        "\n",
        "outputPath = \"train_file.csv\"\n",
        "train.to_csv(outputPath)\n",
        "files.download(outputPath) \n",
        "\n",
        "outputPath = \"train_modify_file.csv\"\n",
        "train_modify.to_csv(outputPath)\n",
        "files.download(outputPath) \n",
        "\n",
        "outputPath = \"validation.csv\"\n",
        "validation.to_csv(outputPath)\n",
        "files.download(outputPath) \n",
        "\n",
        "outputPath = \"validation_modify_file.csv\"\n",
        "validation_modify.to_csv(outputPath)\n",
        "files.download(outputPath) \n",
        "\n",
        "outputPath = \"test_file.csv\"\n",
        "test.to_csv(outputPath)\n",
        "files.download(outputPath) \n",
        "\n",
        "outputPath = \"test_modify_file.csv\"\n",
        "test_modify.to_csv(outputPath)\n",
        "files.download(outputPath)"
      ],
      "execution_count": null,
      "outputs": [
        {
          "output_type": "display_data",
          "data": {
            "application/javascript": [
              "\n",
              "    async function download(id, filename, size) {\n",
              "      if (!google.colab.kernel.accessAllowed) {\n",
              "        return;\n",
              "      }\n",
              "      const div = document.createElement('div');\n",
              "      const label = document.createElement('label');\n",
              "      label.textContent = `Downloading \"${filename}\": `;\n",
              "      div.appendChild(label);\n",
              "      const progress = document.createElement('progress');\n",
              "      progress.max = size;\n",
              "      div.appendChild(progress);\n",
              "      document.body.appendChild(div);\n",
              "\n",
              "      const buffers = [];\n",
              "      let downloaded = 0;\n",
              "\n",
              "      const channel = await google.colab.kernel.comms.open(id);\n",
              "      // Send a message to notify the kernel that we're ready.\n",
              "      channel.send({})\n",
              "\n",
              "      for await (const message of channel.messages) {\n",
              "        // Send a message to notify the kernel that we're ready.\n",
              "        channel.send({})\n",
              "        if (message.buffers) {\n",
              "          for (const buffer of message.buffers) {\n",
              "            buffers.push(buffer);\n",
              "            downloaded += buffer.byteLength;\n",
              "            progress.value = downloaded;\n",
              "          }\n",
              "        }\n",
              "      }\n",
              "      const blob = new Blob(buffers, {type: 'application/binary'});\n",
              "      const a = document.createElement('a');\n",
              "      a.href = window.URL.createObjectURL(blob);\n",
              "      a.download = filename;\n",
              "      div.appendChild(a);\n",
              "      a.click();\n",
              "      div.remove();\n",
              "    }\n",
              "  "
            ],
            "text/plain": [
              "<IPython.core.display.Javascript object>"
            ]
          },
          "metadata": {
            "tags": []
          }
        },
        {
          "output_type": "display_data",
          "data": {
            "application/javascript": [
              "download(\"download_b06ca211-06fa-4f22-bfe7-32d196669559\", \"train_file.csv\", 1261924)"
            ],
            "text/plain": [
              "<IPython.core.display.Javascript object>"
            ]
          },
          "metadata": {
            "tags": []
          }
        },
        {
          "output_type": "display_data",
          "data": {
            "application/javascript": [
              "\n",
              "    async function download(id, filename, size) {\n",
              "      if (!google.colab.kernel.accessAllowed) {\n",
              "        return;\n",
              "      }\n",
              "      const div = document.createElement('div');\n",
              "      const label = document.createElement('label');\n",
              "      label.textContent = `Downloading \"${filename}\": `;\n",
              "      div.appendChild(label);\n",
              "      const progress = document.createElement('progress');\n",
              "      progress.max = size;\n",
              "      div.appendChild(progress);\n",
              "      document.body.appendChild(div);\n",
              "\n",
              "      const buffers = [];\n",
              "      let downloaded = 0;\n",
              "\n",
              "      const channel = await google.colab.kernel.comms.open(id);\n",
              "      // Send a message to notify the kernel that we're ready.\n",
              "      channel.send({})\n",
              "\n",
              "      for await (const message of channel.messages) {\n",
              "        // Send a message to notify the kernel that we're ready.\n",
              "        channel.send({})\n",
              "        if (message.buffers) {\n",
              "          for (const buffer of message.buffers) {\n",
              "            buffers.push(buffer);\n",
              "            downloaded += buffer.byteLength;\n",
              "            progress.value = downloaded;\n",
              "          }\n",
              "        }\n",
              "      }\n",
              "      const blob = new Blob(buffers, {type: 'application/binary'});\n",
              "      const a = document.createElement('a');\n",
              "      a.href = window.URL.createObjectURL(blob);\n",
              "      a.download = filename;\n",
              "      div.appendChild(a);\n",
              "      a.click();\n",
              "      div.remove();\n",
              "    }\n",
              "  "
            ],
            "text/plain": [
              "<IPython.core.display.Javascript object>"
            ]
          },
          "metadata": {
            "tags": []
          }
        },
        {
          "output_type": "display_data",
          "data": {
            "application/javascript": [
              "download(\"download_ae07cd67-c066-4b5e-b21c-c81fb52fb19a\", \"train_modify_file.csv\", 649014)"
            ],
            "text/plain": [
              "<IPython.core.display.Javascript object>"
            ]
          },
          "metadata": {
            "tags": []
          }
        },
        {
          "output_type": "display_data",
          "data": {
            "application/javascript": [
              "\n",
              "    async function download(id, filename, size) {\n",
              "      if (!google.colab.kernel.accessAllowed) {\n",
              "        return;\n",
              "      }\n",
              "      const div = document.createElement('div');\n",
              "      const label = document.createElement('label');\n",
              "      label.textContent = `Downloading \"${filename}\": `;\n",
              "      div.appendChild(label);\n",
              "      const progress = document.createElement('progress');\n",
              "      progress.max = size;\n",
              "      div.appendChild(progress);\n",
              "      document.body.appendChild(div);\n",
              "\n",
              "      const buffers = [];\n",
              "      let downloaded = 0;\n",
              "\n",
              "      const channel = await google.colab.kernel.comms.open(id);\n",
              "      // Send a message to notify the kernel that we're ready.\n",
              "      channel.send({})\n",
              "\n",
              "      for await (const message of channel.messages) {\n",
              "        // Send a message to notify the kernel that we're ready.\n",
              "        channel.send({})\n",
              "        if (message.buffers) {\n",
              "          for (const buffer of message.buffers) {\n",
              "            buffers.push(buffer);\n",
              "            downloaded += buffer.byteLength;\n",
              "            progress.value = downloaded;\n",
              "          }\n",
              "        }\n",
              "      }\n",
              "      const blob = new Blob(buffers, {type: 'application/binary'});\n",
              "      const a = document.createElement('a');\n",
              "      a.href = window.URL.createObjectURL(blob);\n",
              "      a.download = filename;\n",
              "      div.appendChild(a);\n",
              "      a.click();\n",
              "      div.remove();\n",
              "    }\n",
              "  "
            ],
            "text/plain": [
              "<IPython.core.display.Javascript object>"
            ]
          },
          "metadata": {
            "tags": []
          }
        },
        {
          "output_type": "display_data",
          "data": {
            "application/javascript": [
              "download(\"download_354eb795-f36f-493b-8ec8-8eff68abd028\", \"validation.csv\", 412290)"
            ],
            "text/plain": [
              "<IPython.core.display.Javascript object>"
            ]
          },
          "metadata": {
            "tags": []
          }
        },
        {
          "output_type": "display_data",
          "data": {
            "application/javascript": [
              "\n",
              "    async function download(id, filename, size) {\n",
              "      if (!google.colab.kernel.accessAllowed) {\n",
              "        return;\n",
              "      }\n",
              "      const div = document.createElement('div');\n",
              "      const label = document.createElement('label');\n",
              "      label.textContent = `Downloading \"${filename}\": `;\n",
              "      div.appendChild(label);\n",
              "      const progress = document.createElement('progress');\n",
              "      progress.max = size;\n",
              "      div.appendChild(progress);\n",
              "      document.body.appendChild(div);\n",
              "\n",
              "      const buffers = [];\n",
              "      let downloaded = 0;\n",
              "\n",
              "      const channel = await google.colab.kernel.comms.open(id);\n",
              "      // Send a message to notify the kernel that we're ready.\n",
              "      channel.send({})\n",
              "\n",
              "      for await (const message of channel.messages) {\n",
              "        // Send a message to notify the kernel that we're ready.\n",
              "        channel.send({})\n",
              "        if (message.buffers) {\n",
              "          for (const buffer of message.buffers) {\n",
              "            buffers.push(buffer);\n",
              "            downloaded += buffer.byteLength;\n",
              "            progress.value = downloaded;\n",
              "          }\n",
              "        }\n",
              "      }\n",
              "      const blob = new Blob(buffers, {type: 'application/binary'});\n",
              "      const a = document.createElement('a');\n",
              "      a.href = window.URL.createObjectURL(blob);\n",
              "      a.download = filename;\n",
              "      div.appendChild(a);\n",
              "      a.click();\n",
              "      div.remove();\n",
              "    }\n",
              "  "
            ],
            "text/plain": [
              "<IPython.core.display.Javascript object>"
            ]
          },
          "metadata": {
            "tags": []
          }
        },
        {
          "output_type": "display_data",
          "data": {
            "application/javascript": [
              "download(\"download_d4cbf6b0-5128-4cf9-81c0-8e75acad13e9\", \"validation_modify_file.csv\", 163279)"
            ],
            "text/plain": [
              "<IPython.core.display.Javascript object>"
            ]
          },
          "metadata": {
            "tags": []
          }
        },
        {
          "output_type": "display_data",
          "data": {
            "application/javascript": [
              "\n",
              "    async function download(id, filename, size) {\n",
              "      if (!google.colab.kernel.accessAllowed) {\n",
              "        return;\n",
              "      }\n",
              "      const div = document.createElement('div');\n",
              "      const label = document.createElement('label');\n",
              "      label.textContent = `Downloading \"${filename}\": `;\n",
              "      div.appendChild(label);\n",
              "      const progress = document.createElement('progress');\n",
              "      progress.max = size;\n",
              "      div.appendChild(progress);\n",
              "      document.body.appendChild(div);\n",
              "\n",
              "      const buffers = [];\n",
              "      let downloaded = 0;\n",
              "\n",
              "      const channel = await google.colab.kernel.comms.open(id);\n",
              "      // Send a message to notify the kernel that we're ready.\n",
              "      channel.send({})\n",
              "\n",
              "      for await (const message of channel.messages) {\n",
              "        // Send a message to notify the kernel that we're ready.\n",
              "        channel.send({})\n",
              "        if (message.buffers) {\n",
              "          for (const buffer of message.buffers) {\n",
              "            buffers.push(buffer);\n",
              "            downloaded += buffer.byteLength;\n",
              "            progress.value = downloaded;\n",
              "          }\n",
              "        }\n",
              "      }\n",
              "      const blob = new Blob(buffers, {type: 'application/binary'});\n",
              "      const a = document.createElement('a');\n",
              "      a.href = window.URL.createObjectURL(blob);\n",
              "      a.download = filename;\n",
              "      div.appendChild(a);\n",
              "      a.click();\n",
              "      div.remove();\n",
              "    }\n",
              "  "
            ],
            "text/plain": [
              "<IPython.core.display.Javascript object>"
            ]
          },
          "metadata": {
            "tags": []
          }
        },
        {
          "output_type": "display_data",
          "data": {
            "application/javascript": [
              "download(\"download_5e011fe7-e3ae-47c0-b144-a0b58651cbe4\", \"test_file.csv\", 412107)"
            ],
            "text/plain": [
              "<IPython.core.display.Javascript object>"
            ]
          },
          "metadata": {
            "tags": []
          }
        },
        {
          "output_type": "display_data",
          "data": {
            "application/javascript": [
              "\n",
              "    async function download(id, filename, size) {\n",
              "      if (!google.colab.kernel.accessAllowed) {\n",
              "        return;\n",
              "      }\n",
              "      const div = document.createElement('div');\n",
              "      const label = document.createElement('label');\n",
              "      label.textContent = `Downloading \"${filename}\": `;\n",
              "      div.appendChild(label);\n",
              "      const progress = document.createElement('progress');\n",
              "      progress.max = size;\n",
              "      div.appendChild(progress);\n",
              "      document.body.appendChild(div);\n",
              "\n",
              "      const buffers = [];\n",
              "      let downloaded = 0;\n",
              "\n",
              "      const channel = await google.colab.kernel.comms.open(id);\n",
              "      // Send a message to notify the kernel that we're ready.\n",
              "      channel.send({})\n",
              "\n",
              "      for await (const message of channel.messages) {\n",
              "        // Send a message to notify the kernel that we're ready.\n",
              "        channel.send({})\n",
              "        if (message.buffers) {\n",
              "          for (const buffer of message.buffers) {\n",
              "            buffers.push(buffer);\n",
              "            downloaded += buffer.byteLength;\n",
              "            progress.value = downloaded;\n",
              "          }\n",
              "        }\n",
              "      }\n",
              "      const blob = new Blob(buffers, {type: 'application/binary'});\n",
              "      const a = document.createElement('a');\n",
              "      a.href = window.URL.createObjectURL(blob);\n",
              "      a.download = filename;\n",
              "      div.appendChild(a);\n",
              "      a.click();\n",
              "      div.remove();\n",
              "    }\n",
              "  "
            ],
            "text/plain": [
              "<IPython.core.display.Javascript object>"
            ]
          },
          "metadata": {
            "tags": []
          }
        },
        {
          "output_type": "display_data",
          "data": {
            "application/javascript": [
              "download(\"download_f4e45605-ce89-48be-8905-4b69d779b0cc\", \"test_modify_file.csv\", 164566)"
            ],
            "text/plain": [
              "<IPython.core.display.Javascript object>"
            ]
          },
          "metadata": {
            "tags": []
          }
        }
      ]
    },
    {
      "cell_type": "markdown",
      "metadata": {
        "id": "fTewAjFZ6msH"
      },
      "source": [
        "# TYOTA\n"
      ]
    },
    {
      "cell_type": "code",
      "metadata": {
        "id": "JqFlh1-hbYEK"
      },
      "source": [
        "# # TOYOTA - for isolte running and mini tests\n",
        "# col1 = 'BMI'\n",
        "# col2 = 'HouseholdExpenseOnPresents'\n",
        "# if (train[col1].dtypes == 'Int64' or train[col1].dtypes == float) and col1 != col2 and (train[col2].dtypes == 'Int64' or train[col2].dtypes == float):\n",
        "#   for label in ['Virus', 'Risk', 'SpreadLevel']:\n",
        "#     train_copy = train[[col1, col2, 'Virus', 'Risk', 'SpreadLevel']]\n",
        "#     train_copy.dropna(inplace=True)\n",
        "#     if train_copy[col1].dtypes == 'Int64': # apperently this specific plot does not work with 'Int64' so i need to convert it to simple int\n",
        "#       train_copy[col1] = train_copy[col1].astype(int)\n",
        "#     if train_copy[col2].dtypes == 'Int64':\n",
        "#       train_copy[col2] = train_copy[col2].astype(int) \n",
        "#     sns.jointplot(data=train_copy, x=col1, y=col2, hue=label)\n",
        "#     plt.grid()\n",
        "#     plt.title(col1 + ' - ' + col2 + ' joint distribution')\n",
        "#     plt.show()\n"
      ],
      "execution_count": null,
      "outputs": []
    },
    {
      "cell_type": "code",
      "metadata": {
        "id": "SUQCuvOKO_Z6"
      },
      "source": [
        "# # TOYOTA - for isolte running and mini tests\n",
        "# for col1 in ['PCR_89']:\n",
        "#   for col2 in train.columns[1:-5]:\n",
        "\n",
        "#     if (train[col1].dtypes == 'Int64' or train[col1].dtypes == float) and col1 != col2 and (train[col2].dtypes == 'Int64' or train[col2].dtypes == float):\n",
        "#       for label in ['Virus', 'Risk', 'SpreadLevel']:\n",
        "#         train_copy = train[[col1, col2, 'Virus', 'Risk', 'SpreadLevel']]\n",
        "#         train_copy.dropna(inplace=True)\n",
        "#         if train_copy[col1].dtypes == 'Int64': # apperently this specific plot does not work with 'Int64' so i need to convert it to simple int\n",
        "#           train_copy[col1] = train_copy[col1].astype(int)\n",
        "#         if train_copy[col2].dtypes == 'Int64':\n",
        "#           train_copy[col2] = train_copy[col2].astype(int) \n",
        "#         sns.jointplot(data=train_copy, x=col1, y=col2, hue=label)\n",
        "#         plt.grid()\n",
        "#         plt.title(col1 + ' - ' + col2 + ' joint distribution')\n",
        "#         plt.show()\n"
      ],
      "execution_count": null,
      "outputs": []
    }
  ]
}